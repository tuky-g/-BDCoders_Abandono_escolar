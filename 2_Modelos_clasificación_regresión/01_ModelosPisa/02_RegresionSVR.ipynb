{
 "cells": [
  {
   "cell_type": "code",
   "execution_count": 1,
   "metadata": {},
   "outputs": [],
   "source": [
    "import numpy as np\n",
    "import pandas as pd\n",
    "\n",
    "\n",
    "import matplotlib.pyplot as plt\n",
    "from matplotlib.colors import ListedColormap\n",
    "%matplotlib inline\n",
    "\n",
    "cm = plt.cm.RdBu\n",
    "cm_bright = ListedColormap(['#FF0000', '#0000FF'])\n",
    "\n",
    "import warnings\n",
    "warnings.filterwarnings('ignore')\n",
    "\n",
    "from sklearn.model_selection import GridSearchCV\n",
    "\n",
    "\n",
    "pd.set_option('display.max_rows', None) # para mostrar todas las filas\n",
    "pd.set_option('display.max_columns', None) # para mostrar todas las columnas"
   ]
  },
  {
   "cell_type": "code",
   "execution_count": 2,
   "metadata": {},
   "outputs": [],
   "source": [
    "# Importamos los datos\n",
    "X_train = pd.read_csv(\"./DatosPisaSinNan/X_train.csv\", sep=',', decimal='.')\n",
    "y_train = pd.read_csv(\"./DatosPisaSinNan/y_train.csv\", sep=',', decimal='.')\n",
    "X_val = pd.read_csv(\"./DatosPisaSinNan/X_val.csv\", sep=',', decimal='.')\n",
    "y_val = pd.read_csv(\"./DatosPisaSinNan/y_val.csv\", sep=',', decimal='.')\n",
    "X_test = pd.read_csv(\"./DatosPisaSinNan/X_test.csv\", sep=',', decimal='.')\n",
    "y_test = pd.read_csv(\"./DatosPisaSinNan/y_test.csv\", sep=',', decimal='.')"
   ]
  },
  {
   "attachments": {},
   "cell_type": "markdown",
   "metadata": {},
   "source": [
    "Pasamos los dataframes a numpy array"
   ]
  },
  {
   "cell_type": "code",
   "execution_count": 3,
   "metadata": {},
   "outputs": [],
   "source": [
    "feature_names = X_train.columns[:]\n",
    "\n",
    "X_train = X_train.values\n",
    "y_train = y_train.values\n",
    "\n"
   ]
  },
  {
   "attachments": {},
   "cell_type": "markdown",
   "metadata": {},
   "source": [
    "### Estandarización de datos"
   ]
  },
  {
   "attachments": {},
   "cell_type": "markdown",
   "metadata": {},
   "source": [
    "Escalamos con los datos de train"
   ]
  },
  {
   "cell_type": "code",
   "execution_count": 4,
   "metadata": {},
   "outputs": [],
   "source": [
    "from sklearn import preprocessing\n",
    "\n",
    "scaler = preprocessing.StandardScaler().fit(X_train)\n",
    "#scaler = preprocessing.Normalizer().fit(X_train)\n",
    "XtrainScaled = scaler.transform(X_train)\n",
    "XvalScaled = scaler.transform(X_val)\n",
    "XtestScaled = scaler.transform(X_test)"
   ]
  },
  {
   "attachments": {},
   "cell_type": "markdown",
   "metadata": {},
   "source": [
    "### SVR"
   ]
  },
  {
   "cell_type": "code",
   "execution_count": 5,
   "metadata": {},
   "outputs": [],
   "source": [
    "from sklearn.svm import SVR\n"
   ]
  },
  {
   "cell_type": "code",
   "execution_count": 17,
   "metadata": {},
   "outputs": [],
   "source": [
    "#parameters=[{'C': [1,10,100,1000],'kernel':['rbf','linear'],'gamma': [0.1, 0.2, 0.3, 0.4, 0.5, 0.6, 0.7, 0.8, 0.9]}]\n",
    "parameters=[{'C': [1],'kernel':['rbf', 'linear'],'gamma': [0.1, 0.3, 0.5]}]\n",
    "modelsvr=SVR()\n",
    "grid_search=GridSearchCV(estimator=modelsvr,\n",
    "                         param_grid=parameters,\n",
    "                         cv=10,\n",
    "                         n_jobs=-1)\n",
    "grid_search=grid_search.fit(XtrainScaled,y_train)"
   ]
  },
  {
   "cell_type": "code",
   "execution_count": 18,
   "metadata": {},
   "outputs": [
    {
     "name": "stdout",
     "output_type": "stream",
     "text": [
      "{'C': 1, 'gamma': 0.1, 'kernel': 'linear'}\n",
      "0.5784563566338647\n"
     ]
    }
   ],
   "source": [
    "print(grid_search.best_params_)\n",
    "print(grid_search.best_score_)"
   ]
  },
  {
   "cell_type": "code",
   "execution_count": 19,
   "metadata": {},
   "outputs": [],
   "source": [
    "#svr=SVR(C= 100, gamma= 0.1, kernel= 'linear')\n",
    "#svr.fit(XtrainScaled,y_train)"
   ]
  },
  {
   "cell_type": "code",
   "execution_count": 20,
   "metadata": {},
   "outputs": [
    {
     "name": "stdout",
     "output_type": "stream",
     "text": [
      "MSE Modelo svr (train): 2523.2\n",
      "MSE Modelo svr (test) : 2556.4\n",
      "\n",
      "MAE Modelo svr (train): 39.694\n",
      "MAE Modelo svr (test) : 40.27\n"
     ]
    }
   ],
   "source": [
    "from sklearn.metrics import mean_squared_error \n",
    "from sklearn.metrics import mean_absolute_error\n",
    "\n",
    "\n",
    "ytrainsvr = grid_search.predict(XtrainScaled)\n",
    "ytestsvr  = grid_search.predict(XtestScaled)\n",
    "\n",
    "mseTrainModelsvr = mean_squared_error(y_train,ytrainsvr)\n",
    "mseTestModelsvr = mean_squared_error(y_test,ytestsvr)\n",
    "\n",
    "print('MSE Modelo svr (train): %0.5g' % mseTrainModelsvr)\n",
    "print('MSE Modelo svr (test) : %0.5g' % mseTestModelsvr)\n",
    "\n",
    "print()\n",
    "\n",
    "maeTrainModelsvr = mean_absolute_error(y_train,ytrainsvr)\n",
    "maeTestModelsvr  = mean_absolute_error(y_test,ytestsvr)\n",
    "\n",
    "print('MAE Modelo svr (train): %0.5g' % maeTrainModelsvr)\n",
    "print('MAE Modelo svr (test) : %0.5g' % maeTestModelsvr)"
   ]
  },
  {
   "cell_type": "code",
   "execution_count": 21,
   "metadata": {},
   "outputs": [
    {
     "data": {
      "text/plain": [
       "['modeloSVR_st.joblib']"
      ]
     },
     "execution_count": 21,
     "metadata": {},
     "output_type": "execute_result"
    }
   ],
   "source": [
    "# Salvamos el modelo en formato joblib\n",
    "\n",
    "from joblib import dump, load\n",
    "dump(grid_search, 'modeloSVR_st.joblib') \n",
    "\n",
    "#clf = load('modeloSVR_st.joblib') "
   ]
  },
  {
   "attachments": {},
   "cell_type": "markdown",
   "metadata": {},
   "source": [
    "### Conclusión al modelo SVR\n",
    "\n",
    "Hemos obtenido un ajuste relativamente bueno, el mejor de todos los modelos entrenados, y además controlando el overfitting.\n"
   ]
  }
 ],
 "metadata": {
  "kernelspec": {
   "display_name": "Python 3 (ipykernel)",
   "language": "python",
   "name": "python3"
  },
  "language_info": {
   "codemirror_mode": {
    "name": "ipython",
    "version": 3
   },
   "file_extension": ".py",
   "mimetype": "text/x-python",
   "name": "python",
   "nbconvert_exporter": "python",
   "pygments_lexer": "ipython3",
   "version": "3.10.9"
  }
 },
 "nbformat": 4,
 "nbformat_minor": 2
}
