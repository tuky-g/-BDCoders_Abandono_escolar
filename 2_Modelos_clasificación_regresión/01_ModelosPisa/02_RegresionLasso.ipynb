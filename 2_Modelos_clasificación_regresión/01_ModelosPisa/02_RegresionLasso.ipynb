{
 "cells": [
  {
   "cell_type": "code",
   "execution_count": 45,
   "metadata": {},
   "outputs": [],
   "source": [
    "import numpy as np\n",
    "import pandas as pd\n",
    "\n",
    "\n",
    "import matplotlib.pyplot as plt\n",
    "from matplotlib.colors import ListedColormap\n",
    "%matplotlib inline\n",
    "\n",
    "cm = plt.cm.RdBu\n",
    "cm_bright = ListedColormap(['#FF0000', '#0000FF'])\n",
    "\n",
    "import warnings\n",
    "warnings.filterwarnings('ignore')\n",
    "\n",
    "\n",
    "pd.set_option('display.max_rows', None) # para mostrar todas las filas\n",
    "pd.set_option('display.max_columns', None) # para mostrar todas las columnas"
   ]
  },
  {
   "cell_type": "code",
   "execution_count": 46,
   "metadata": {},
   "outputs": [],
   "source": [
    "# Importamos los datos\n",
    "X_train = pd.read_csv(\"./DatosPisaSinNan/X_train.csv\", sep=',', decimal='.')\n",
    "y_train = pd.read_csv(\"./DatosPisaSinNan/y_train.csv\", sep=',', decimal='.')\n",
    "X_val = pd.read_csv(\"./DatosPisaSinNan/X_val.csv\", sep=',', decimal='.')\n",
    "y_val = pd.read_csv(\"./DatosPisaSinNan/y_val.csv\", sep=',', decimal='.')\n",
    "X_test = pd.read_csv(\"./DatosPisaSinNan/X_test.csv\", sep=',', decimal='.')\n",
    "y_test = pd.read_csv(\"./DatosPisaSinNan/y_test.csv\", sep=',', decimal='.')"
   ]
  },
  {
   "attachments": {},
   "cell_type": "markdown",
   "metadata": {},
   "source": [
    "Pasamos los dataframes a numpy array"
   ]
  },
  {
   "cell_type": "code",
   "execution_count": 47,
   "metadata": {},
   "outputs": [],
   "source": [
    "feature_names = X_train.columns[:]\n",
    "\n",
    "X_train = X_train.values\n",
    "y_train = y_train.values\n",
    "\n"
   ]
  },
  {
   "attachments": {},
   "cell_type": "markdown",
   "metadata": {},
   "source": [
    "### Modelo Lasso, standard Scaler.\n"
   ]
  },
  {
   "cell_type": "code",
   "execution_count": 48,
   "metadata": {},
   "outputs": [],
   "source": [
    "from sklearn import preprocessing\n",
    "\n",
    "scaler = preprocessing.StandardScaler().fit(X_train)\n",
    "#scaler = preprocessing.Normalizer().fit(X_train)\n",
    "XtrainScaled = scaler.transform(X_train)\n",
    "XvalScaled = scaler.transform(X_val)\n",
    "XtestScaled = scaler.transform(X_test)"
   ]
  },
  {
   "cell_type": "code",
   "execution_count": 49,
   "metadata": {},
   "outputs": [
    {
     "name": "stdout",
     "output_type": "stream",
     "text": [
      "best mean cross-validation score: -2524.393\n",
      "best parameters: {'alpha': 0.03678379771828634}\n"
     ]
    },
    {
     "data": {
      "image/png": "[encoded data removed]",
      "text/plain": [
       "<Figure size 640x480 with 1 Axes>"
      ]
     },
     "metadata": {},
     "output_type": "display_data"
    }
   ],
   "source": [
    "from sklearn.model_selection import GridSearchCV\n",
    "from sklearn.linear_model import Lasso\n",
    "\n",
    "#alpha_vector = np.logspace(-1.5,-0.5,20)\n",
    "alpha_vector = np.logspace(-2,2,100)\n",
    "\n",
    "param_grid = {'alpha': alpha_vector }\n",
    "grid = GridSearchCV(Lasso(), scoring= 'neg_mean_squared_error', param_grid=param_grid, cv = 10)\n",
    "grid.fit(XtrainScaled, y_train)\n",
    "print(\"best mean cross-validation score: {:.3f}\".format(grid.best_score_))\n",
    "print(\"best parameters: {}\".format(grid.best_params_))\n",
    "\n",
    "scores = -1*np.array(grid.cv_results_['mean_test_score'])\n",
    "plt.semilogx(alpha_vector,scores,'-o')\n",
    "plt.xlabel('alpha',fontsize=16)\n",
    "plt.ylabel('10-Fold MSE')\n",
    "plt.show()\n",
    "\n",
    "# Tarda 10 segundos"
   ]
  },
  {
   "cell_type": "code",
   "execution_count": 50,
   "metadata": {},
   "outputs": [
    {
     "name": "stdout",
     "output_type": "stream",
     "text": [
      "MSE Modelo Lasso Standart (train): 2517.1\n",
      "MSE Modelo Lasso Standart (test) : 2549.5\n",
      "\n",
      "MAE Modelo Lasso StandardScaler (train): 39.737\n",
      "MAE Modelo Lasso StandardScaler (test) : 40.306\n",
      "\n",
      "ST001D01T 2.5236915205189936\n",
      "ST013Q01TA 8.549337718644576\n",
      "ST127Q01TA -5.56834631891838\n",
      "ST127Q02TA -1.8599417881793894\n",
      "ST163Q02HA -1.1939432519046402\n",
      "ST163Q03HA -0.5545183341060994\n",
      "ST225Q03HA 3.508046526991057\n",
      "ST225Q06HA 8.850434650549435\n",
      "ST196Q02HA 10.65778224869491\n",
      "IC152Q06HA 8.593759383362633\n",
      "GRADE 0.37701956483525867\n",
      "REPEAT -8.660232818501608\n",
      "BSMJ 4.687920315415213\n",
      "METASUM 11.402437915274964\n",
      "METASPAM 16.971865246207297\n",
      "SCREADCOMP 8.724945574392006\n",
      "PISADIFF -10.621715899720234\n"
     ]
    }
   ],
   "source": [
    "from sklearn.metrics import mean_squared_error \n",
    "from sklearn.metrics import mean_absolute_error\n",
    "\n",
    "alpha_optimo = grid.best_params_['alpha']#*10 #*100\n",
    "lasso = Lasso(alpha = alpha_optimo).fit(XtrainScaled,y_train)\n",
    "\n",
    "ytrainLasso = lasso.predict(XtrainScaled)\n",
    "ytestLasso  = lasso.predict(XtestScaled)\n",
    "mseTrainModelLasso_st = mean_squared_error(y_train,ytrainLasso)\n",
    "mseTestModelLasso_st = mean_squared_error(y_test,ytestLasso)\n",
    "\n",
    "print('MSE Modelo Lasso StandardScaler (train): %0.5g' % mseTrainModelLasso_st)\n",
    "print('MSE Modelo Lasso StandardScaler (test) : %0.5g' % mseTestModelLasso_st)\n",
    "\n",
    "print()\n",
    "\n",
    "maeTrainModelLasso_st = mean_absolute_error(y_train,ytrainLasso)\n",
    "maeTestModelLasso_st = mean_absolute_error(y_test,ytestLasso)\n",
    "\n",
    "print('MAE Modelo Lasso StandardScaler (train): %0.5g' % maeTrainModelLasso_st)\n",
    "print('MAE Modelo Lasso StandardScaler (test) : %0.5g' % maeTestModelLasso_st)\n",
    "\n",
    "print()\n",
    "\n",
    "w = lasso.coef_\n",
    "for f,wi in zip(feature_names,w):\n",
    "    print(f,wi)"
   ]
  },
  {
   "cell_type": "code",
   "execution_count": 51,
   "metadata": {},
   "outputs": [],
   "source": [
    "# # Salvamos el modelo en formato pickle\n",
    "\n",
    "# import pickle\n",
    "# modeloLasso_save = pickle.dumps(lasso)\n",
    "\n",
    "# modeloLasso_load = pickle.loads(modeloLasso_save)\n",
    "# modeloLasso_load.predict(XtrainScaled[0:1])\n",
    "# print(modeloLasso_load.predict(XtrainScaled[:]))\n",
    "# print(y_train[0:])\n"
   ]
  },
  {
   "cell_type": "code",
   "execution_count": 52,
   "metadata": {},
   "outputs": [
    {
     "name": "stdout",
     "output_type": "stream",
     "text": [
      "[544.43348057 517.49137796 621.99878228 ... 566.26416881 498.13560559\n",
      " 445.26234994]\n",
      "[[533.27055556]\n",
      " [483.98407778]\n",
      " [549.68306667]\n",
      " ...\n",
      " [546.41002222]\n",
      " [480.38326667]\n",
      " [380.72154444]]\n"
     ]
    }
   ],
   "source": [
    "# Salvamos el modelo en formato joblib\n",
    "\n",
    "from joblib import dump, load\n",
    "dump(lasso, 'modeloLasso_st.joblib') \n",
    "dump(scaler, 'lasso_scaler_st.joblib') \n",
    "\n",
    "clf = load('modeloLasso_st.joblib') \n",
    "\n",
    "clf.predict(XtrainScaled[0:1])\n",
    "print(clf.predict(XtrainScaled[:]))\n",
    "print(y_train[0:])"
   ]
  },
  {
   "attachments": {},
   "cell_type": "markdown",
   "metadata": {},
   "source": [
    "### Modelo Lasso, Normalizer Scaler."
   ]
  },
  {
   "cell_type": "code",
   "execution_count": 53,
   "metadata": {},
   "outputs": [],
   "source": [
    "\n",
    "\n",
    "#scaler = preprocessing.StandardScaler().fit(X_train)\n",
    "scaler = preprocessing.Normalizer().fit(X_train)\n",
    "XtrainScaled = scaler.transform(X_train)\n",
    "XvalScaled = scaler.transform(X_val)\n",
    "XtestScaled = scaler.transform(X_test)"
   ]
  },
  {
   "cell_type": "code",
   "execution_count": 54,
   "metadata": {},
   "outputs": [
    {
     "name": "stdout",
     "output_type": "stream",
     "text": [
      "best mean cross-validation score: -3081.632\n",
      "best parameters: {'alpha': 0.01}\n"
     ]
    },
    {
     "data": {
      "image/png": "[encoded data removed]",
      "text/plain": [
       "<Figure size 640x480 with 1 Axes>"
      ]
     },
     "metadata": {},
     "output_type": "display_data"
    }
   ],
   "source": [
    "from sklearn.model_selection import GridSearchCV\n",
    "from sklearn.linear_model import Lasso\n",
    "\n",
    "#alpha_vector = np.logspace(-1.5,-0.5,20)\n",
    "alpha_vector = np.logspace(-2,2,100)\n",
    "\n",
    "param_grid = {'alpha': alpha_vector }\n",
    "grid = GridSearchCV(Lasso(), scoring= 'neg_mean_squared_error', param_grid=param_grid, cv = 10)\n",
    "grid.fit(XtrainScaled, y_train)\n",
    "print(\"best mean cross-validation score: {:.3f}\".format(grid.best_score_))\n",
    "print(\"best parameters: {}\".format(grid.best_params_))\n",
    "\n",
    "scores = -1*np.array(grid.cv_results_['mean_test_score'])\n",
    "plt.semilogx(alpha_vector,scores,'-o')\n",
    "plt.xlabel('alpha',fontsize=16)\n",
    "plt.ylabel('10-Fold MSE')\n",
    "plt.show()\n",
    "\n",
    "# Tarda 10 segundos"
   ]
  },
  {
   "cell_type": "code",
   "execution_count": 55,
   "metadata": {},
   "outputs": [
    {
     "name": "stdout",
     "output_type": "stream",
     "text": [
      "MSE Modelo Lasso Normalizer (train): 3066\n",
      "MSE Modelo Lasso Normalizer (test) : 3076.2\n",
      "\n",
      "MAE Modelo Lasso Normalizer (train): 43.69\n",
      "MAE Modelo Lasso  Normalizer (test) : 43.982\n",
      "\n",
      "ST001D01T -557.9036390555535\n",
      "ST013Q01TA 351.10767539680774\n",
      "ST127Q01TA -219.71202882976453\n",
      "ST127Q02TA -0.0\n",
      "ST163Q02HA -42.549952617179095\n",
      "ST163Q03HA -94.25347961942852\n",
      "ST225Q03HA 40.053759059381576\n",
      "ST225Q06HA 1101.497927283063\n",
      "ST196Q02HA 537.2811113962496\n",
      "IC152Q06HA 331.43325716428325\n",
      "GRADE 694.4786701589117\n",
      "REPEAT -1374.6370770144244\n",
      "BSMJ -439.98277807601033\n",
      "METASUM 688.0471682247859\n",
      "METASPAM 1016.321707539841\n",
      "SCREADCOMP 543.6317488857405\n",
      "PISADIFF -689.844163495441\n"
     ]
    }
   ],
   "source": [
    "from sklearn.metrics import mean_squared_error \n",
    "from sklearn.metrics import mean_absolute_error\n",
    "\n",
    "alpha_optimo = grid.best_params_['alpha']#*10 #*100\n",
    "lasso = Lasso(alpha = alpha_optimo).fit(XtrainScaled,y_train)\n",
    "\n",
    "ytrainLasso = lasso.predict(XtrainScaled)\n",
    "ytestLasso  = lasso.predict(XtestScaled)\n",
    "mseTrainModelLasso = mean_squared_error(y_train,ytrainLasso)\n",
    "mseTestModelLasso = mean_squared_error(y_test,ytestLasso)\n",
    "\n",
    "print('MSE Modelo Lasso Normalizer (train): %0.5g' % mseTrainModelLasso)\n",
    "print('MSE Modelo Lasso Normalizer (test) : %0.5g' % mseTestModelLasso)\n",
    "\n",
    "print()\n",
    "\n",
    "maeTrainModelLasso_nor = mean_absolute_error(y_train,ytrainLasso)\n",
    "maeTestModelLasso_nor = mean_absolute_error(y_test,ytestLasso)\n",
    "\n",
    "print('MAE Modelo Lasso Normalizer (train): %0.5g' % maeTrainModelLasso_nor)\n",
    "print('MAE Modelo Lasso  Normalizer (test) : %0.5g' % maeTestModelLasso_nor)\n",
    "\n",
    "print()\n",
    "\n",
    "w = lasso.coef_\n",
    "for f,wi in zip(feature_names,w):\n",
    "    print(f,wi)"
   ]
  },
  {
   "cell_type": "code",
   "execution_count": 56,
   "metadata": {},
   "outputs": [
    {
     "name": "stdout",
     "output_type": "stream",
     "text": [
      "[539.68526175 520.4061233  580.95640419 ... 575.99898612 501.99190476\n",
      " 445.89906478]\n",
      "[[533.27055556]\n",
      " [483.98407778]\n",
      " [549.68306667]\n",
      " ...\n",
      " [546.41002222]\n",
      " [480.38326667]\n",
      " [380.72154444]]\n"
     ]
    }
   ],
   "source": [
    "# Salvamos el modelo en formato joblib\n",
    "\n",
    "from joblib import dump, load\n",
    "dump(lasso, 'modeloLasso_nor.joblib') \n",
    "dump(scaler, 'lasso_scaler_nor.joblib') \n",
    "\n",
    "clf = load('modeloLasso_nor.joblib') \n",
    "\n",
    "clf.predict(XtrainScaled[0:1])\n",
    "print(clf.predict(XtrainScaled[:]))\n",
    "print(y_train[0:])"
   ]
  },
  {
   "cell_type": "code",
   "execution_count": null,
   "metadata": {},
   "outputs": [],
   "source": []
  },
  {
   "attachments": {},
   "cell_type": "markdown",
   "metadata": {},
   "source": [
    "#### Conclusión al Modelo Lasso.\n",
    "\n",
    "La principal característica de regularizar aplicando Lasso, es que este algoritmo es capaz de eliminar coeficientes de variables que no aportan mucho en la caracterización de la variable target (PISA_SCORE_AV).\n",
    "En este caso, vemos como ninguno de los coeficientes de las variables se a anulado, por lo que ninguna de ellas es redundante. \n",
    "\n",
    "El MSE de train y test nos indica que no hay overfitting al ser similares.\n",
    "\n",
    "El MAE es relativamente bajo y la predicción del modelo será buena.\n",
    "\n",
    "La standarización de las varibles nos ofrece mejores resultados que la normalización.\n"
   ]
  },
  {
   "cell_type": "code",
   "execution_count": 57,
   "metadata": {},
   "outputs": [
    {
     "name": "stdout",
     "output_type": "stream",
     "text": [
      "MAE Modelo Lasso standard scaler (train): 39.737\n",
      "MAE Modelo Lasso standard scaler (test) : 40.306\n",
      "\n",
      "MAE Modelo Lasso normalizer scaler (train): 43.69\n",
      "MAE Modelo Lasso normalizer scaler (test) : 43.982\n"
     ]
    }
   ],
   "source": [
    "print('MAE Modelo Lasso standard scaler (train): %0.5g' % maeTrainModelLasso_st)\n",
    "print('MAE Modelo Lasso standard scaler (test) : %0.5g' % maeTestModelLasso_st)\n",
    "print()\n",
    "print('MAE Modelo Lasso normalizer scaler (train): %0.5g' % maeTrainModelLasso_nor)\n",
    "print('MAE Modelo Lasso normalizer scaler (test) : %0.5g' % maeTestModelLasso_nor)"
   ]
  },
  {
   "cell_type": "code",
   "execution_count": null,
   "metadata": {},
   "outputs": [],
   "source": []
  },
  {
   "cell_type": "code",
   "execution_count": null,
   "metadata": {},
   "outputs": [],
   "source": []
  }
 ],
 "metadata": {
  "kernelspec": {
   "display_name": "Python 3 (ipykernel)",
   "language": "python",
   "name": "python3"
  },
  "language_info": {
   "codemirror_mode": {
    "name": "ipython",
    "version": 3
   },
   "file_extension": ".py",
   "mimetype": "text/x-python",
   "name": "python",
   "nbconvert_exporter": "python",
   "pygments_lexer": "ipython3",
   "version": "3.10.9"
  }
 },
 "nbformat": 4,
 "nbformat_minor": 2
}
