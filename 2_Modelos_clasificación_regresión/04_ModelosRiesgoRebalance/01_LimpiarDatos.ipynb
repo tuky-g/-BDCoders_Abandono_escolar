{
 "cells": [
  {
   "attachments": {},
   "cell_type": "markdown",
   "metadata": {},
   "source": [
    "Sustituimos los valores Nan por la media para no perder registros."
   ]
  },
  {
   "cell_type": "code",
   "execution_count": 31,
   "metadata": {},
   "outputs": [],
   "source": [
    "import pandas as pd\n",
    "\n"
   ]
  },
  {
   "cell_type": "code",
   "execution_count": 32,
   "metadata": {},
   "outputs": [
    {
     "name": "stdout",
     "output_type": "stream",
     "text": [
      "train shape antes de borrar Nan:  (19953, 41)\n",
      "val shape antes de borrar Nan:  (4989, 41)\n",
      "test shape antes de borrar Nan:  (6236, 41)\n"
     ]
    }
   ],
   "source": [
    "X_train = pd.read_csv(\"./DatosAbandono/X2_train.csv\")\n",
    "X_train.rename(columns={'Unnamed: 0':'id'}, inplace=True)\n",
    "y_train = pd.read_csv(\"./DatosAbandono/y2_train.csv\")\n",
    "y_train.rename(columns={'Unnamed: 0':'id'}, inplace=True)\n",
    "train = pd.merge(X_train, y_train, on='id')\n",
    "train = train.drop(\"id\", axis=1)\n",
    "print(\"train shape antes de borrar Nan: \", train.shape)\n",
    "#train.dropna(how='any', inplace=True)\n",
    "#print(\"train shape despues de borrar Nan: \", train.shape)\n",
    "X_train = train.iloc[:,:-1]\n",
    "y_train = train.iloc[:, -1:]\n",
    "\n",
    "\n",
    "\n",
    "X_val = pd.read_csv(\"./DatosAbandono/X2_val.csv\")\n",
    "X_val.rename(columns={'Unnamed: 0':'id'}, inplace=True)\n",
    "y_val = pd.read_csv(\"./DatosAbandono/y2_val.csv\")\n",
    "y_val.rename(columns={'Unnamed: 0':'id'}, inplace=True)\n",
    "val = pd.merge(X_val, y_val, on='id')\n",
    "val = val.drop(\"id\", axis=1)\n",
    "print(\"val shape antes de borrar Nan: \", val.shape)\n",
    "#val.dropna(how='any', inplace=True)\n",
    "#print(\"val shape despues de borrar Nan: \", val.shape)\n",
    "X_val = val.iloc[:,:-1]\n",
    "y_val = val.iloc[:, -1:]\n",
    "\n",
    "\n",
    "\n",
    "X_test = pd.read_csv(\"./DatosAbandono/X2_test.csv\")\n",
    "X_test.rename(columns={'Unnamed: 0':'id'}, inplace=True)\n",
    "y_test = pd.read_csv(\"./DatosAbandono/y2_test.csv\")\n",
    "y_test.rename(columns={'Unnamed: 0':'id'}, inplace=True)\n",
    "test = pd.merge(X_test, y_test, on='id')\n",
    "test = test.drop(\"id\", axis=1)\n",
    "print(\"test shape antes de borrar Nan: \", test.shape)\n",
    "#test.dropna(how='any', inplace=True)\n",
    "#print(\"test shape despues de borrar Nan: \", test.shape)\n",
    "X_test = test.iloc[:,:-1]\n",
    "y_test = test.iloc[:, -1:]\n",
    "\n",
    "data = pd.concat([train, val, test])\n",
    "\n",
    "\n",
    "# train.to_csv('./DatosAbandonoSinPondSinNan/train.csv', sep=',', decimal='.', index=False)\n",
    "# X_train.to_csv('./DatosAbandonoSinPondSinNan/X_train.csv', sep=',', decimal='.', index=False)\n",
    "# y_train.to_csv('./DatosAbandonoSinPondSinNan/y_train.csv', sep=',', decimal='.', index=False)\n",
    "\n",
    "# val.to_csv('./DatosAbandonoSinPondSinNan/val.csv', sep=',', decimal='.', index=False)\n",
    "# X_val.to_csv('./DatosAbandonoSinPondSinNan/X_val.csv', sep=',', decimal='.', index=False)\n",
    "# y_val.to_csv('./DatosAbandonoSinPondSinNan/y_val.csv', sep=',', decimal='.', index=False)\n",
    "\n",
    "# test.to_csv('./DatosAbandonoSinPondSinNan/test.csv', sep=',', decimal='.', index=False)\n",
    "# X_test.to_csv('./DatosAbandonoSinPondSinNan/X_test.csv', sep=',', decimal='.', index=False)\n",
    "# y_test.to_csv('./DatosAbandonoSinPondSinNan/y_test.csv', sep=',', decimal='.', index=False)\n",
    "\n",
    "# data.to_csv('./DatosAbandonoSinPondSinNan/data.csv', sep=',', decimal='.', index=False)\n",
    "\n",
    "\n"
   ]
  },
  {
   "cell_type": "code",
   "execution_count": 33,
   "metadata": {},
   "outputs": [
    {
     "name": "stdout",
     "output_type": "stream",
     "text": [
      "El dataframe tiene un total de 31178 filas.\n"
     ]
    },
    {
     "data": {
      "text/plain": [
       "OCOD3              0\n",
       "SENWT              1\n",
       "CNTSCHID           0\n",
       "BSMJ            5281\n",
       "ST001D01T          0\n",
       "GCSELFEFF       2565\n",
       "PV8RTSN            1\n",
       "PV10RCER           1\n",
       "MASTGOAL        1882\n",
       "PV4RCER            1\n",
       "GCAWARE         2655\n",
       "PV4RTML            1\n",
       "PV10RTSN           1\n",
       "PV4RCLI            1\n",
       "PV1RCER            1\n",
       "PV7RCUN            1\n",
       "PV1RTML            1\n",
       "PV3RCUN            1\n",
       "PV5RTSN            1\n",
       "PV6RTSN            1\n",
       "PV8RTML            1\n",
       "PV3RCER            1\n",
       "PV9RCLI            1\n",
       "PV8RCLI            1\n",
       "PV9MATH            0\n",
       "PV6RTML            1\n",
       "PV9READ            0\n",
       "PV8RCUN            1\n",
       "PV3READ            0\n",
       "PV3RTSN            1\n",
       "PV2RTSN            1\n",
       "PV1GLCM            0\n",
       "PV7RCER            1\n",
       "PV8RCER            1\n",
       "PV9RTSN            1\n",
       "PV10RTML           1\n",
       "PV6RCER            1\n",
       "PV5RCUN            1\n",
       "PV10RCLI           1\n",
       "PV7RTML            1\n",
       "DROPOUT_RISK       0\n",
       "dtype: int64"
      ]
     },
     "execution_count": 33,
     "metadata": {},
     "output_type": "execute_result"
    }
   ],
   "source": [
    "print(f'El dataframe tiene un total de {len(data)} filas.')\n",
    "len(data) - data.count() # vemos cuántos valores NaN hay por columna"
   ]
  },
  {
   "cell_type": "code",
   "execution_count": 34,
   "metadata": {},
   "outputs": [
    {
     "name": "stdout",
     "output_type": "stream",
     "text": [
      "<class 'pandas.core.frame.DataFrame'>\n",
      "Int64Index: 31178 entries, 0 to 6235\n",
      "Data columns (total 41 columns):\n",
      " #   Column        Non-Null Count  Dtype  \n",
      "---  ------        --------------  -----  \n",
      " 0   OCOD3         31178 non-null  int64  \n",
      " 1   SENWT         31177 non-null  float64\n",
      " 2   CNTSCHID      31178 non-null  float64\n",
      " 3   BSMJ          25897 non-null  float64\n",
      " 4   ST001D01T     31178 non-null  float64\n",
      " 5   GCSELFEFF     28613 non-null  float64\n",
      " 6   PV8RTSN       31177 non-null  float64\n",
      " 7   PV10RCER      31177 non-null  float64\n",
      " 8   MASTGOAL      29296 non-null  float64\n",
      " 9   PV4RCER       31177 non-null  float64\n",
      " 10  GCAWARE       28523 non-null  float64\n",
      " 11  PV4RTML       31177 non-null  float64\n",
      " 12  PV10RTSN      31177 non-null  float64\n",
      " 13  PV4RCLI       31177 non-null  float64\n",
      " 14  PV1RCER       31177 non-null  float64\n",
      " 15  PV7RCUN       31177 non-null  float64\n",
      " 16  PV1RTML       31177 non-null  float64\n",
      " 17  PV3RCUN       31177 non-null  float64\n",
      " 18  PV5RTSN       31177 non-null  float64\n",
      " 19  PV6RTSN       31177 non-null  float64\n",
      " 20  PV8RTML       31177 non-null  float64\n",
      " 21  PV3RCER       31177 non-null  float64\n",
      " 22  PV9RCLI       31177 non-null  float64\n",
      " 23  PV8RCLI       31177 non-null  float64\n",
      " 24  PV9MATH       31178 non-null  float64\n",
      " 25  PV6RTML       31177 non-null  float64\n",
      " 26  PV9READ       31178 non-null  float64\n",
      " 27  PV8RCUN       31177 non-null  float64\n",
      " 28  PV3READ       31178 non-null  float64\n",
      " 29  PV3RTSN       31177 non-null  float64\n",
      " 30  PV2RTSN       31177 non-null  float64\n",
      " 31  PV1GLCM       31178 non-null  float64\n",
      " 32  PV7RCER       31177 non-null  float64\n",
      " 33  PV8RCER       31177 non-null  float64\n",
      " 34  PV9RTSN       31177 non-null  float64\n",
      " 35  PV10RTML      31177 non-null  float64\n",
      " 36  PV6RCER       31177 non-null  float64\n",
      " 37  PV5RCUN       31177 non-null  float64\n",
      " 38  PV10RCLI      31177 non-null  float64\n",
      " 39  PV7RTML       31177 non-null  float64\n",
      " 40  DROPOUT_RISK  31178 non-null  int64  \n",
      "dtypes: float64(39), int64(2)\n",
      "memory usage: 10.0 MB\n"
     ]
    }
   ],
   "source": [
    "data.info()"
   ]
  },
  {
   "cell_type": "code",
   "execution_count": 35,
   "metadata": {},
   "outputs": [
    {
     "data": {
      "text/plain": [
       "OCOD3           False\n",
       "SENWT            True\n",
       "CNTSCHID        False\n",
       "BSMJ             True\n",
       "ST001D01T       False\n",
       "GCSELFEFF        True\n",
       "PV8RTSN          True\n",
       "PV10RCER         True\n",
       "MASTGOAL         True\n",
       "PV4RCER          True\n",
       "GCAWARE          True\n",
       "PV4RTML          True\n",
       "PV10RTSN         True\n",
       "PV4RCLI          True\n",
       "PV1RCER          True\n",
       "PV7RCUN          True\n",
       "PV1RTML          True\n",
       "PV3RCUN          True\n",
       "PV5RTSN          True\n",
       "PV6RTSN          True\n",
       "PV8RTML          True\n",
       "PV3RCER          True\n",
       "PV9RCLI          True\n",
       "PV8RCLI          True\n",
       "PV9MATH         False\n",
       "PV6RTML          True\n",
       "PV9READ         False\n",
       "PV8RCUN          True\n",
       "PV3READ         False\n",
       "PV3RTSN          True\n",
       "PV2RTSN          True\n",
       "PV1GLCM         False\n",
       "PV7RCER          True\n",
       "PV8RCER          True\n",
       "PV9RTSN          True\n",
       "PV10RTML         True\n",
       "PV6RCER          True\n",
       "PV5RCUN          True\n",
       "PV10RCLI         True\n",
       "PV7RTML          True\n",
       "DROPOUT_RISK    False\n",
       "dtype: bool"
      ]
     },
     "execution_count": 35,
     "metadata": {},
     "output_type": "execute_result"
    }
   ],
   "source": [
    "data.isnull().any() # vemos qué columnas tienen valores NaN"
   ]
  },
  {
   "cell_type": "code",
   "execution_count": 36,
   "metadata": {},
   "outputs": [
    {
     "data": {
      "text/html": [
       "<div>\n",
       "<style scoped>\n",
       "    .dataframe tbody tr th:only-of-type {\n",
       "        vertical-align: middle;\n",
       "    }\n",
       "\n",
       "    .dataframe tbody tr th {\n",
       "        vertical-align: top;\n",
       "    }\n",
       "\n",
       "    .dataframe thead th {\n",
       "        text-align: right;\n",
       "    }\n",
       "</style>\n",
       "<table border=\"1\" class=\"dataframe\">\n",
       "  <thead>\n",
       "    <tr style=\"text-align: right;\">\n",
       "      <th></th>\n",
       "      <th>OCOD3</th>\n",
       "      <th>SENWT</th>\n",
       "      <th>CNTSCHID</th>\n",
       "      <th>BSMJ</th>\n",
       "      <th>ST001D01T</th>\n",
       "      <th>GCSELFEFF</th>\n",
       "      <th>PV8RTSN</th>\n",
       "      <th>PV10RCER</th>\n",
       "      <th>MASTGOAL</th>\n",
       "      <th>PV4RCER</th>\n",
       "      <th>...</th>\n",
       "      <th>PV1GLCM</th>\n",
       "      <th>PV7RCER</th>\n",
       "      <th>PV8RCER</th>\n",
       "      <th>PV9RTSN</th>\n",
       "      <th>PV10RTML</th>\n",
       "      <th>PV6RCER</th>\n",
       "      <th>PV5RCUN</th>\n",
       "      <th>PV10RCLI</th>\n",
       "      <th>PV7RTML</th>\n",
       "      <th>DROPOUT_RISK</th>\n",
       "    </tr>\n",
       "  </thead>\n",
       "  <tbody>\n",
       "    <tr>\n",
       "      <th>0</th>\n",
       "      <td>5312</td>\n",
       "      <td>0.12762</td>\n",
       "      <td>72400642.0</td>\n",
       "      <td>24.98</td>\n",
       "      <td>9.0</td>\n",
       "      <td>-0.3942</td>\n",
       "      <td>454.112</td>\n",
       "      <td>521.570</td>\n",
       "      <td>-1.7101</td>\n",
       "      <td>482.296</td>\n",
       "      <td>...</td>\n",
       "      <td>515.221</td>\n",
       "      <td>432.307</td>\n",
       "      <td>439.821</td>\n",
       "      <td>417.673</td>\n",
       "      <td>418.863</td>\n",
       "      <td>501.880</td>\n",
       "      <td>493.764</td>\n",
       "      <td>532.562</td>\n",
       "      <td>500.678</td>\n",
       "      <td>2</td>\n",
       "    </tr>\n",
       "    <tr>\n",
       "      <th>1</th>\n",
       "      <td>2341</td>\n",
       "      <td>0.11360</td>\n",
       "      <td>72400299.0</td>\n",
       "      <td>76.49</td>\n",
       "      <td>10.0</td>\n",
       "      <td>-0.9245</td>\n",
       "      <td>555.810</td>\n",
       "      <td>621.970</td>\n",
       "      <td>-0.0940</td>\n",
       "      <td>573.922</td>\n",
       "      <td>...</td>\n",
       "      <td>581.228</td>\n",
       "      <td>671.652</td>\n",
       "      <td>605.917</td>\n",
       "      <td>604.273</td>\n",
       "      <td>528.853</td>\n",
       "      <td>617.100</td>\n",
       "      <td>612.626</td>\n",
       "      <td>595.217</td>\n",
       "      <td>567.502</td>\n",
       "      <td>0</td>\n",
       "    </tr>\n",
       "    <tr>\n",
       "      <th>2</th>\n",
       "      <td>110</td>\n",
       "      <td>0.12794</td>\n",
       "      <td>72400127.0</td>\n",
       "      <td>60.92</td>\n",
       "      <td>8.0</td>\n",
       "      <td>-0.4038</td>\n",
       "      <td>610.075</td>\n",
       "      <td>513.757</td>\n",
       "      <td>1.8524</td>\n",
       "      <td>580.198</td>\n",
       "      <td>...</td>\n",
       "      <td>562.724</td>\n",
       "      <td>575.387</td>\n",
       "      <td>594.244</td>\n",
       "      <td>610.115</td>\n",
       "      <td>533.581</td>\n",
       "      <td>570.786</td>\n",
       "      <td>597.612</td>\n",
       "      <td>574.027</td>\n",
       "      <td>571.532</td>\n",
       "      <td>2</td>\n",
       "    </tr>\n",
       "    <tr>\n",
       "      <th>3</th>\n",
       "      <td>5411</td>\n",
       "      <td>0.03512</td>\n",
       "      <td>72400661.0</td>\n",
       "      <td>46.38</td>\n",
       "      <td>9.0</td>\n",
       "      <td>-0.4720</td>\n",
       "      <td>355.136</td>\n",
       "      <td>332.079</td>\n",
       "      <td>-0.4347</td>\n",
       "      <td>394.915</td>\n",
       "      <td>...</td>\n",
       "      <td>366.160</td>\n",
       "      <td>362.860</td>\n",
       "      <td>352.015</td>\n",
       "      <td>302.830</td>\n",
       "      <td>360.158</td>\n",
       "      <td>362.000</td>\n",
       "      <td>330.098</td>\n",
       "      <td>280.031</td>\n",
       "      <td>348.090</td>\n",
       "      <td>0</td>\n",
       "    </tr>\n",
       "    <tr>\n",
       "      <th>4</th>\n",
       "      <td>3411</td>\n",
       "      <td>0.42566</td>\n",
       "      <td>72400155.0</td>\n",
       "      <td>57.00</td>\n",
       "      <td>10.0</td>\n",
       "      <td>-0.1247</td>\n",
       "      <td>545.486</td>\n",
       "      <td>475.272</td>\n",
       "      <td>1.1969</td>\n",
       "      <td>662.077</td>\n",
       "      <td>...</td>\n",
       "      <td>616.622</td>\n",
       "      <td>526.312</td>\n",
       "      <td>605.057</td>\n",
       "      <td>503.340</td>\n",
       "      <td>525.220</td>\n",
       "      <td>485.852</td>\n",
       "      <td>613.356</td>\n",
       "      <td>519.077</td>\n",
       "      <td>555.490</td>\n",
       "      <td>0</td>\n",
       "    </tr>\n",
       "  </tbody>\n",
       "</table>\n",
       "<p>5 rows × 41 columns</p>\n",
       "</div>"
      ],
      "text/plain": [
       "   OCOD3    SENWT    CNTSCHID   BSMJ  ST001D01T  GCSELFEFF  PV8RTSN  PV10RCER  \\\n",
       "0   5312  0.12762  72400642.0  24.98        9.0    -0.3942  454.112   521.570   \n",
       "1   2341  0.11360  72400299.0  76.49       10.0    -0.9245  555.810   621.970   \n",
       "2    110  0.12794  72400127.0  60.92        8.0    -0.4038  610.075   513.757   \n",
       "3   5411  0.03512  72400661.0  46.38        9.0    -0.4720  355.136   332.079   \n",
       "4   3411  0.42566  72400155.0  57.00       10.0    -0.1247  545.486   475.272   \n",
       "\n",
       "   MASTGOAL  PV4RCER  ...  PV1GLCM  PV7RCER  PV8RCER  PV9RTSN  PV10RTML  \\\n",
       "0   -1.7101  482.296  ...  515.221  432.307  439.821  417.673   418.863   \n",
       "1   -0.0940  573.922  ...  581.228  671.652  605.917  604.273   528.853   \n",
       "2    1.8524  580.198  ...  562.724  575.387  594.244  610.115   533.581   \n",
       "3   -0.4347  394.915  ...  366.160  362.860  352.015  302.830   360.158   \n",
       "4    1.1969  662.077  ...  616.622  526.312  605.057  503.340   525.220   \n",
       "\n",
       "   PV6RCER  PV5RCUN  PV10RCLI  PV7RTML  DROPOUT_RISK  \n",
       "0  501.880  493.764   532.562  500.678             2  \n",
       "1  617.100  612.626   595.217  567.502             0  \n",
       "2  570.786  597.612   574.027  571.532             2  \n",
       "3  362.000  330.098   280.031  348.090             0  \n",
       "4  485.852  613.356   519.077  555.490             0  \n",
       "\n",
       "[5 rows x 41 columns]"
      ]
     },
     "execution_count": 36,
     "metadata": {},
     "output_type": "execute_result"
    }
   ],
   "source": [
    "data.head()"
   ]
  },
  {
   "cell_type": "code",
   "execution_count": 37,
   "metadata": {},
   "outputs": [
    {
     "data": {
      "text/plain": [
       "(31178, 41)"
      ]
     },
     "execution_count": 37,
     "metadata": {},
     "output_type": "execute_result"
    }
   ],
   "source": [
    "data.shape"
   ]
  },
  {
   "cell_type": "code",
   "execution_count": 38,
   "metadata": {},
   "outputs": [],
   "source": [
    "columnas = data.columns"
   ]
  },
  {
   "cell_type": "code",
   "execution_count": 39,
   "metadata": {},
   "outputs": [
    {
     "data": {
      "text/plain": [
       "0    21535\n",
       "2     6763\n",
       "1     2880\n",
       "Name: DROPOUT_RISK, dtype: int64"
      ]
     },
     "execution_count": 39,
     "metadata": {},
     "output_type": "execute_result"
    }
   ],
   "source": [
    "# Numero de valores por categoría\n",
    "# Se puede ver que el dataset está muy desbalanceado\n",
    "data.DROPOUT_RISK.value_counts()"
   ]
  },
  {
   "attachments": {},
   "cell_type": "markdown",
   "metadata": {},
   "source": [
    "Vamos a balancear el dataset empleando una estrategia de subsampling en las clases que vas valores tienen.\n",
    "\n",
    "Con ello esperamos conseguir la misma cantidad de valores por cada categoría.\n",
    "\n",
    "[https://www.aprendemachinelearning.com/clasificacion-con-datos-desbalanceados/](https://www.aprendemachinelearning.com/clasificacion-con-datos-desbalanceados/)\n",
    "\n",
    "[https://imbalanced-learn.org/dev/references/generated/imblearn.under_sampling.NearMiss.html](https://imbalanced-learn.org/dev/references/generated/imblearn.under_sampling.NearMiss.html)\n",
    "\n"
   ]
  },
  {
   "cell_type": "code",
   "execution_count": 40,
   "metadata": {},
   "outputs": [],
   "source": [
    "from sklearn.impute import SimpleImputer\n",
    "si = SimpleImputer()"
   ]
  },
  {
   "cell_type": "code",
   "execution_count": 41,
   "metadata": {},
   "outputs": [
    {
     "data": {
      "text/html": [
       "<style>#sk-container-id-2 {color: black;background-color: white;}#sk-container-id-2 pre{padding: 0;}#sk-container-id-2 div.sk-toggleable {background-color: white;}#sk-container-id-2 label.sk-toggleable__label {cursor: pointer;display: block;width: 100%;margin-bottom: 0;padding: 0.3em;box-sizing: border-box;text-align: center;}#sk-container-id-2 label.sk-toggleable__label-arrow:before {content: \"▸\";float: left;margin-right: 0.25em;color: #696969;}#sk-container-id-2 label.sk-toggleable__label-arrow:hover:before {color: black;}#sk-container-id-2 div.sk-estimator:hover label.sk-toggleable__label-arrow:before {color: black;}#sk-container-id-2 div.sk-toggleable__content {max-height: 0;max-width: 0;overflow: hidden;text-align: left;background-color: #f0f8ff;}#sk-container-id-2 div.sk-toggleable__content pre {margin: 0.2em;color: black;border-radius: 0.25em;background-color: #f0f8ff;}#sk-container-id-2 input.sk-toggleable__control:checked~div.sk-toggleable__content {max-height: 200px;max-width: 100%;overflow: auto;}#sk-container-id-2 input.sk-toggleable__control:checked~label.sk-toggleable__label-arrow:before {content: \"▾\";}#sk-container-id-2 div.sk-estimator input.sk-toggleable__control:checked~label.sk-toggleable__label {background-color: #d4ebff;}#sk-container-id-2 div.sk-label input.sk-toggleable__control:checked~label.sk-toggleable__label {background-color: #d4ebff;}#sk-container-id-2 input.sk-hidden--visually {border: 0;clip: rect(1px 1px 1px 1px);clip: rect(1px, 1px, 1px, 1px);height: 1px;margin: -1px;overflow: hidden;padding: 0;position: absolute;width: 1px;}#sk-container-id-2 div.sk-estimator {font-family: monospace;background-color: #f0f8ff;border: 1px dotted black;border-radius: 0.25em;box-sizing: border-box;margin-bottom: 0.5em;}#sk-container-id-2 div.sk-estimator:hover {background-color: #d4ebff;}#sk-container-id-2 div.sk-parallel-item::after {content: \"\";width: 100%;border-bottom: 1px solid gray;flex-grow: 1;}#sk-container-id-2 div.sk-label:hover label.sk-toggleable__label {background-color: #d4ebff;}#sk-container-id-2 div.sk-serial::before {content: \"\";position: absolute;border-left: 1px solid gray;box-sizing: border-box;top: 0;bottom: 0;left: 50%;z-index: 0;}#sk-container-id-2 div.sk-serial {display: flex;flex-direction: column;align-items: center;background-color: white;padding-right: 0.2em;padding-left: 0.2em;position: relative;}#sk-container-id-2 div.sk-item {position: relative;z-index: 1;}#sk-container-id-2 div.sk-parallel {display: flex;align-items: stretch;justify-content: center;background-color: white;position: relative;}#sk-container-id-2 div.sk-item::before, #sk-container-id-2 div.sk-parallel-item::before {content: \"\";position: absolute;border-left: 1px solid gray;box-sizing: border-box;top: 0;bottom: 0;left: 50%;z-index: -1;}#sk-container-id-2 div.sk-parallel-item {display: flex;flex-direction: column;z-index: 1;position: relative;background-color: white;}#sk-container-id-2 div.sk-parallel-item:first-child::after {align-self: flex-end;width: 50%;}#sk-container-id-2 div.sk-parallel-item:last-child::after {align-self: flex-start;width: 50%;}#sk-container-id-2 div.sk-parallel-item:only-child::after {width: 0;}#sk-container-id-2 div.sk-dashed-wrapped {border: 1px dashed gray;margin: 0 0.4em 0.5em 0.4em;box-sizing: border-box;padding-bottom: 0.4em;background-color: white;}#sk-container-id-2 div.sk-label label {font-family: monospace;font-weight: bold;display: inline-block;line-height: 1.2em;}#sk-container-id-2 div.sk-label-container {text-align: center;}#sk-container-id-2 div.sk-container {/* jupyter's `normalize.less` sets `[hidden] { display: none; }` but bootstrap.min.css set `[hidden] { display: none !important; }` so we also need the `!important` here to be able to override the default hidden behavior on the sphinx rendered scikit-learn.org. See: https://github.com/scikit-learn/scikit-learn/issues/21755 */display: inline-block !important;position: relative;}#sk-container-id-2 div.sk-text-repr-fallback {display: none;}</style><div id=\"sk-container-id-2\" class=\"sk-top-container\"><div class=\"sk-text-repr-fallback\"><pre>SimpleImputer()</pre><b>In a Jupyter environment, please rerun this cell to show the HTML representation or trust the notebook. <br />On GitHub, the HTML representation is unable to render, please try loading this page with nbviewer.org.</b></div><div class=\"sk-container\" hidden><div class=\"sk-item\"><div class=\"sk-estimator sk-toggleable\"><input class=\"sk-toggleable__control sk-hidden--visually\" id=\"sk-estimator-id-2\" type=\"checkbox\" checked><label for=\"sk-estimator-id-2\" class=\"sk-toggleable__label sk-toggleable__label-arrow\">SimpleImputer</label><div class=\"sk-toggleable__content\"><pre>SimpleImputer()</pre></div></div></div></div></div>"
      ],
      "text/plain": [
       "SimpleImputer()"
      ]
     },
     "execution_count": 41,
     "metadata": {},
     "output_type": "execute_result"
    }
   ],
   "source": [
    "si.fit(data)"
   ]
  },
  {
   "cell_type": "code",
   "execution_count": 42,
   "metadata": {},
   "outputs": [
    {
     "data": {
      "text/plain": [
       "array([ 4.09670146e+03,  1.38661003e-01,  7.24005514e+07,  6.82914836e+01,\n",
       "        9.69388671e+00, -9.36352008e-03,  4.82711543e+02,  4.91243075e+02,\n",
       "       -1.03304769e-01,  4.93212193e+02,  4.30226203e-02,  4.91001614e+02,\n",
       "        4.83471599e+02,  4.83424890e+02,  4.91177235e+02,  4.86099840e+02,\n",
       "        4.90609376e+02,  4.86531952e+02,  4.83507224e+02,  4.83786869e+02,\n",
       "        4.93024011e+02,  4.94363844e+02,  4.84807517e+02,  4.87499172e+02,\n",
       "        4.89872155e+02,  4.91186517e+02,  4.83829578e+02,  4.85990795e+02,\n",
       "        4.83568338e+02,  4.82549367e+02,  4.83502894e+02,  5.21739756e+02,\n",
       "        4.91953059e+02,  4.91257051e+02,  4.82714563e+02,  4.91810890e+02,\n",
       "        4.93151424e+02,  4.85239689e+02,  4.86219462e+02,  4.92112809e+02,\n",
       "        5.26204375e-01])"
      ]
     },
     "execution_count": 42,
     "metadata": {},
     "output_type": "execute_result"
    }
   ],
   "source": [
    "si.statistics_"
   ]
  },
  {
   "cell_type": "code",
   "execution_count": 43,
   "metadata": {},
   "outputs": [],
   "source": [
    "datos = si.fit_transform(data)"
   ]
  },
  {
   "cell_type": "code",
   "execution_count": 44,
   "metadata": {},
   "outputs": [],
   "source": [
    "data = pd.DataFrame(datos, columns=columnas)"
   ]
  },
  {
   "cell_type": "code",
   "execution_count": 45,
   "metadata": {},
   "outputs": [
    {
     "data": {
      "text/plain": [
       "0.0    21535\n",
       "2.0     6763\n",
       "1.0     2880\n",
       "Name: DROPOUT_RISK, dtype: int64"
      ]
     },
     "execution_count": 45,
     "metadata": {},
     "output_type": "execute_result"
    }
   ],
   "source": [
    "data.DROPOUT_RISK.value_counts()"
   ]
  },
  {
   "cell_type": "code",
   "execution_count": 46,
   "metadata": {},
   "outputs": [
    {
     "data": {
      "text/plain": [
       "OCOD3           False\n",
       "SENWT           False\n",
       "CNTSCHID        False\n",
       "BSMJ            False\n",
       "ST001D01T       False\n",
       "GCSELFEFF       False\n",
       "PV8RTSN         False\n",
       "PV10RCER        False\n",
       "MASTGOAL        False\n",
       "PV4RCER         False\n",
       "GCAWARE         False\n",
       "PV4RTML         False\n",
       "PV10RTSN        False\n",
       "PV4RCLI         False\n",
       "PV1RCER         False\n",
       "PV7RCUN         False\n",
       "PV1RTML         False\n",
       "PV3RCUN         False\n",
       "PV5RTSN         False\n",
       "PV6RTSN         False\n",
       "PV8RTML         False\n",
       "PV3RCER         False\n",
       "PV9RCLI         False\n",
       "PV8RCLI         False\n",
       "PV9MATH         False\n",
       "PV6RTML         False\n",
       "PV9READ         False\n",
       "PV8RCUN         False\n",
       "PV3READ         False\n",
       "PV3RTSN         False\n",
       "PV2RTSN         False\n",
       "PV1GLCM         False\n",
       "PV7RCER         False\n",
       "PV8RCER         False\n",
       "PV9RTSN         False\n",
       "PV10RTML        False\n",
       "PV6RCER         False\n",
       "PV5RCUN         False\n",
       "PV10RCLI        False\n",
       "PV7RTML         False\n",
       "DROPOUT_RISK    False\n",
       "dtype: bool"
      ]
     },
     "execution_count": 46,
     "metadata": {},
     "output_type": "execute_result"
    }
   ],
   "source": [
    "data.isnull().any() # vemos qué columnas tienen valores NaN"
   ]
  },
  {
   "cell_type": "code",
   "execution_count": 47,
   "metadata": {},
   "outputs": [
    {
     "name": "stdout",
     "output_type": "stream",
     "text": [
      "El dataframe tiene un total de 31178 filas.\n"
     ]
    },
    {
     "data": {
      "text/plain": [
       "OCOD3           0\n",
       "SENWT           0\n",
       "CNTSCHID        0\n",
       "BSMJ            0\n",
       "ST001D01T       0\n",
       "GCSELFEFF       0\n",
       "PV8RTSN         0\n",
       "PV10RCER        0\n",
       "MASTGOAL        0\n",
       "PV4RCER         0\n",
       "GCAWARE         0\n",
       "PV4RTML         0\n",
       "PV10RTSN        0\n",
       "PV4RCLI         0\n",
       "PV1RCER         0\n",
       "PV7RCUN         0\n",
       "PV1RTML         0\n",
       "PV3RCUN         0\n",
       "PV5RTSN         0\n",
       "PV6RTSN         0\n",
       "PV8RTML         0\n",
       "PV3RCER         0\n",
       "PV9RCLI         0\n",
       "PV8RCLI         0\n",
       "PV9MATH         0\n",
       "PV6RTML         0\n",
       "PV9READ         0\n",
       "PV8RCUN         0\n",
       "PV3READ         0\n",
       "PV3RTSN         0\n",
       "PV2RTSN         0\n",
       "PV1GLCM         0\n",
       "PV7RCER         0\n",
       "PV8RCER         0\n",
       "PV9RTSN         0\n",
       "PV10RTML        0\n",
       "PV6RCER         0\n",
       "PV5RCUN         0\n",
       "PV10RCLI        0\n",
       "PV7RTML         0\n",
       "DROPOUT_RISK    0\n",
       "dtype: int64"
      ]
     },
     "execution_count": 47,
     "metadata": {},
     "output_type": "execute_result"
    }
   ],
   "source": [
    "print(f'El dataframe tiene un total de {len(data)} filas.')\n",
    "len(data) - data.count() # vemos cuántos valores NaN hay por columna"
   ]
  },
  {
   "cell_type": "code",
   "execution_count": 48,
   "metadata": {},
   "outputs": [],
   "source": [
    "from sklearn.model_selection import train_test_split\n"
   ]
  },
  {
   "cell_type": "code",
   "execution_count": 49,
   "metadata": {},
   "outputs": [],
   "source": [
    "y = data.iloc[:,-1:]\n",
    "X = data.iloc[:,:-1]\n"
   ]
  },
  {
   "cell_type": "code",
   "execution_count": 50,
   "metadata": {},
   "outputs": [],
   "source": [
    "# Otra forma de dividir los datos en X e y\n",
    "# y = data['DROPOUT_RISK']\n",
    "# X = data.drop('DROPOUT_RISK', axis=1)"
   ]
  },
  {
   "cell_type": "code",
   "execution_count": 51,
   "metadata": {},
   "outputs": [
    {
     "data": {
      "text/html": [
       "<div>\n",
       "<style scoped>\n",
       "    .dataframe tbody tr th:only-of-type {\n",
       "        vertical-align: middle;\n",
       "    }\n",
       "\n",
       "    .dataframe tbody tr th {\n",
       "        vertical-align: top;\n",
       "    }\n",
       "\n",
       "    .dataframe thead th {\n",
       "        text-align: right;\n",
       "    }\n",
       "</style>\n",
       "<table border=\"1\" class=\"dataframe\">\n",
       "  <thead>\n",
       "    <tr style=\"text-align: right;\">\n",
       "      <th></th>\n",
       "      <th>DROPOUT_RISK</th>\n",
       "    </tr>\n",
       "  </thead>\n",
       "  <tbody>\n",
       "    <tr>\n",
       "      <th>0</th>\n",
       "      <td>2.0</td>\n",
       "    </tr>\n",
       "    <tr>\n",
       "      <th>1</th>\n",
       "      <td>0.0</td>\n",
       "    </tr>\n",
       "    <tr>\n",
       "      <th>2</th>\n",
       "      <td>2.0</td>\n",
       "    </tr>\n",
       "    <tr>\n",
       "      <th>3</th>\n",
       "      <td>0.0</td>\n",
       "    </tr>\n",
       "    <tr>\n",
       "      <th>4</th>\n",
       "      <td>0.0</td>\n",
       "    </tr>\n",
       "  </tbody>\n",
       "</table>\n",
       "</div>"
      ],
      "text/plain": [
       "   DROPOUT_RISK\n",
       "0           2.0\n",
       "1           0.0\n",
       "2           2.0\n",
       "3           0.0\n",
       "4           0.0"
      ]
     },
     "execution_count": 51,
     "metadata": {},
     "output_type": "execute_result"
    }
   ],
   "source": [
    "y.head()"
   ]
  },
  {
   "cell_type": "code",
   "execution_count": 52,
   "metadata": {},
   "outputs": [
    {
     "data": {
      "text/html": [
       "<div>\n",
       "<style scoped>\n",
       "    .dataframe tbody tr th:only-of-type {\n",
       "        vertical-align: middle;\n",
       "    }\n",
       "\n",
       "    .dataframe tbody tr th {\n",
       "        vertical-align: top;\n",
       "    }\n",
       "\n",
       "    .dataframe thead th {\n",
       "        text-align: right;\n",
       "    }\n",
       "</style>\n",
       "<table border=\"1\" class=\"dataframe\">\n",
       "  <thead>\n",
       "    <tr style=\"text-align: right;\">\n",
       "      <th></th>\n",
       "      <th>OCOD3</th>\n",
       "      <th>SENWT</th>\n",
       "      <th>CNTSCHID</th>\n",
       "      <th>BSMJ</th>\n",
       "      <th>ST001D01T</th>\n",
       "      <th>GCSELFEFF</th>\n",
       "      <th>PV8RTSN</th>\n",
       "      <th>PV10RCER</th>\n",
       "      <th>MASTGOAL</th>\n",
       "      <th>PV4RCER</th>\n",
       "      <th>...</th>\n",
       "      <th>PV2RTSN</th>\n",
       "      <th>PV1GLCM</th>\n",
       "      <th>PV7RCER</th>\n",
       "      <th>PV8RCER</th>\n",
       "      <th>PV9RTSN</th>\n",
       "      <th>PV10RTML</th>\n",
       "      <th>PV6RCER</th>\n",
       "      <th>PV5RCUN</th>\n",
       "      <th>PV10RCLI</th>\n",
       "      <th>PV7RTML</th>\n",
       "    </tr>\n",
       "  </thead>\n",
       "  <tbody>\n",
       "    <tr>\n",
       "      <th>0</th>\n",
       "      <td>5312.0</td>\n",
       "      <td>0.12762</td>\n",
       "      <td>72400642.0</td>\n",
       "      <td>24.98</td>\n",
       "      <td>9.0</td>\n",
       "      <td>-0.3942</td>\n",
       "      <td>454.112</td>\n",
       "      <td>521.570</td>\n",
       "      <td>-1.7101</td>\n",
       "      <td>482.296</td>\n",
       "      <td>...</td>\n",
       "      <td>473.974</td>\n",
       "      <td>515.221</td>\n",
       "      <td>432.307</td>\n",
       "      <td>439.821</td>\n",
       "      <td>417.673</td>\n",
       "      <td>418.863</td>\n",
       "      <td>501.880</td>\n",
       "      <td>493.764</td>\n",
       "      <td>532.562</td>\n",
       "      <td>500.678</td>\n",
       "    </tr>\n",
       "    <tr>\n",
       "      <th>1</th>\n",
       "      <td>2341.0</td>\n",
       "      <td>0.11360</td>\n",
       "      <td>72400299.0</td>\n",
       "      <td>76.49</td>\n",
       "      <td>10.0</td>\n",
       "      <td>-0.9245</td>\n",
       "      <td>555.810</td>\n",
       "      <td>621.970</td>\n",
       "      <td>-0.0940</td>\n",
       "      <td>573.922</td>\n",
       "      <td>...</td>\n",
       "      <td>539.508</td>\n",
       "      <td>581.228</td>\n",
       "      <td>671.652</td>\n",
       "      <td>605.917</td>\n",
       "      <td>604.273</td>\n",
       "      <td>528.853</td>\n",
       "      <td>617.100</td>\n",
       "      <td>612.626</td>\n",
       "      <td>595.217</td>\n",
       "      <td>567.502</td>\n",
       "    </tr>\n",
       "    <tr>\n",
       "      <th>2</th>\n",
       "      <td>110.0</td>\n",
       "      <td>0.12794</td>\n",
       "      <td>72400127.0</td>\n",
       "      <td>60.92</td>\n",
       "      <td>8.0</td>\n",
       "      <td>-0.4038</td>\n",
       "      <td>610.075</td>\n",
       "      <td>513.757</td>\n",
       "      <td>1.8524</td>\n",
       "      <td>580.198</td>\n",
       "      <td>...</td>\n",
       "      <td>547.678</td>\n",
       "      <td>562.724</td>\n",
       "      <td>575.387</td>\n",
       "      <td>594.244</td>\n",
       "      <td>610.115</td>\n",
       "      <td>533.581</td>\n",
       "      <td>570.786</td>\n",
       "      <td>597.612</td>\n",
       "      <td>574.027</td>\n",
       "      <td>571.532</td>\n",
       "    </tr>\n",
       "    <tr>\n",
       "      <th>3</th>\n",
       "      <td>5411.0</td>\n",
       "      <td>0.03512</td>\n",
       "      <td>72400661.0</td>\n",
       "      <td>46.38</td>\n",
       "      <td>9.0</td>\n",
       "      <td>-0.4720</td>\n",
       "      <td>355.136</td>\n",
       "      <td>332.079</td>\n",
       "      <td>-0.4347</td>\n",
       "      <td>394.915</td>\n",
       "      <td>...</td>\n",
       "      <td>357.155</td>\n",
       "      <td>366.160</td>\n",
       "      <td>362.860</td>\n",
       "      <td>352.015</td>\n",
       "      <td>302.830</td>\n",
       "      <td>360.158</td>\n",
       "      <td>362.000</td>\n",
       "      <td>330.098</td>\n",
       "      <td>280.031</td>\n",
       "      <td>348.090</td>\n",
       "    </tr>\n",
       "    <tr>\n",
       "      <th>4</th>\n",
       "      <td>3411.0</td>\n",
       "      <td>0.42566</td>\n",
       "      <td>72400155.0</td>\n",
       "      <td>57.00</td>\n",
       "      <td>10.0</td>\n",
       "      <td>-0.1247</td>\n",
       "      <td>545.486</td>\n",
       "      <td>475.272</td>\n",
       "      <td>1.1969</td>\n",
       "      <td>662.077</td>\n",
       "      <td>...</td>\n",
       "      <td>576.587</td>\n",
       "      <td>616.622</td>\n",
       "      <td>526.312</td>\n",
       "      <td>605.057</td>\n",
       "      <td>503.340</td>\n",
       "      <td>525.220</td>\n",
       "      <td>485.852</td>\n",
       "      <td>613.356</td>\n",
       "      <td>519.077</td>\n",
       "      <td>555.490</td>\n",
       "    </tr>\n",
       "  </tbody>\n",
       "</table>\n",
       "<p>5 rows × 40 columns</p>\n",
       "</div>"
      ],
      "text/plain": [
       "    OCOD3    SENWT    CNTSCHID   BSMJ  ST001D01T  GCSELFEFF  PV8RTSN  \\\n",
       "0  5312.0  0.12762  72400642.0  24.98        9.0    -0.3942  454.112   \n",
       "1  2341.0  0.11360  72400299.0  76.49       10.0    -0.9245  555.810   \n",
       "2   110.0  0.12794  72400127.0  60.92        8.0    -0.4038  610.075   \n",
       "3  5411.0  0.03512  72400661.0  46.38        9.0    -0.4720  355.136   \n",
       "4  3411.0  0.42566  72400155.0  57.00       10.0    -0.1247  545.486   \n",
       "\n",
       "   PV10RCER  MASTGOAL  PV4RCER  ...  PV2RTSN  PV1GLCM  PV7RCER  PV8RCER  \\\n",
       "0   521.570   -1.7101  482.296  ...  473.974  515.221  432.307  439.821   \n",
       "1   621.970   -0.0940  573.922  ...  539.508  581.228  671.652  605.917   \n",
       "2   513.757    1.8524  580.198  ...  547.678  562.724  575.387  594.244   \n",
       "3   332.079   -0.4347  394.915  ...  357.155  366.160  362.860  352.015   \n",
       "4   475.272    1.1969  662.077  ...  576.587  616.622  526.312  605.057   \n",
       "\n",
       "   PV9RTSN  PV10RTML  PV6RCER  PV5RCUN  PV10RCLI  PV7RTML  \n",
       "0  417.673   418.863  501.880  493.764   532.562  500.678  \n",
       "1  604.273   528.853  617.100  612.626   595.217  567.502  \n",
       "2  610.115   533.581  570.786  597.612   574.027  571.532  \n",
       "3  302.830   360.158  362.000  330.098   280.031  348.090  \n",
       "4  503.340   525.220  485.852  613.356   519.077  555.490  \n",
       "\n",
       "[5 rows x 40 columns]"
      ]
     },
     "execution_count": 52,
     "metadata": {},
     "output_type": "execute_result"
    }
   ],
   "source": [
    "X.head()"
   ]
  },
  {
   "cell_type": "code",
   "execution_count": 53,
   "metadata": {},
   "outputs": [],
   "source": [
    "# Dividimos en train y test, pero estos datos están desbalanceados\n",
    "\n",
    "from sklearn.model_selection import train_test_split\n",
    "X_train, X_test, y_train, y_test = train_test_split(X, y, train_size=0.8)"
   ]
  },
  {
   "cell_type": "code",
   "execution_count": 54,
   "metadata": {},
   "outputs": [
    {
     "data": {
      "text/plain": [
       "0.0    17159\n",
       "2.0     5436\n",
       "1.0     2347\n",
       "Name: DROPOUT_RISK, dtype: int64"
      ]
     },
     "execution_count": 54,
     "metadata": {},
     "output_type": "execute_result"
    }
   ],
   "source": [
    "y_train.DROPOUT_RISK.value_counts()"
   ]
  },
  {
   "cell_type": "code",
   "execution_count": 55,
   "metadata": {},
   "outputs": [],
   "source": [
    "X_train.to_csv('./DatosAbandonoSinNan/X_train.csv', sep=',', decimal='.', index=False)\n",
    "y_train.to_csv('./DatosAbandonoSinNan/y_train.csv', sep=',', decimal='.', index=False)"
   ]
  },
  {
   "cell_type": "code",
   "execution_count": 56,
   "metadata": {},
   "outputs": [],
   "source": [
    "X_test.to_csv('./DatosAbandonoSinNan/X_test.csv', sep=',', decimal='.', index=False)\n",
    "y_test.to_csv('./DatosAbandonoSinNan/y_test.csv', sep=',', decimal='.', index=False)"
   ]
  },
  {
   "attachments": {},
   "cell_type": "markdown",
   "metadata": {},
   "source": [
    "### Subsampling"
   ]
  },
  {
   "cell_type": "code",
   "execution_count": 57,
   "metadata": {},
   "outputs": [],
   "source": [
    "from collections import Counter\n",
    "from imblearn.under_sampling import NearMiss"
   ]
  },
  {
   "cell_type": "code",
   "execution_count": 58,
   "metadata": {},
   "outputs": [],
   "source": [
    "# Hacemos un subsampling para que los datos no esten tan desbalanceados\n",
    "\n",
    "\n",
    "#us = NearMiss(version=3, sampling_strategy='auto', n_neighbors=3)\n",
    "us = NearMiss(version=1, sampling_strategy={0:4985, 1:2183, 2:4985}, n_neighbors=3)\n",
    "#us = NearMiss(version=3, sampling_strategy='majority', n_neighbors=3)\n",
    "#us = NearMiss(version=3, sampling_strategy='all', n_neighbors=3)\n",
    "\n",
    "X_train_res, y_train_res = us.fit_resample(X_train, y_train)\n"
   ]
  },
  {
   "cell_type": "code",
   "execution_count": 59,
   "metadata": {},
   "outputs": [
    {
     "data": {
      "text/plain": [
       "0.0    4985\n",
       "2.0    4985\n",
       "1.0    2183\n",
       "Name: DROPOUT_RISK, dtype: int64"
      ]
     },
     "execution_count": 59,
     "metadata": {},
     "output_type": "execute_result"
    }
   ],
   "source": [
    "y_train_res.DROPOUT_RISK.value_counts()"
   ]
  },
  {
   "cell_type": "code",
   "execution_count": 60,
   "metadata": {},
   "outputs": [
    {
     "name": "stdout",
     "output_type": "stream",
     "text": [
      "<class 'pandas.core.frame.DataFrame'>\n",
      "RangeIndex: 12153 entries, 0 to 12152\n",
      "Data columns (total 40 columns):\n",
      " #   Column     Non-Null Count  Dtype  \n",
      "---  ------     --------------  -----  \n",
      " 0   OCOD3      12153 non-null  float64\n",
      " 1   SENWT      12153 non-null  float64\n",
      " 2   CNTSCHID   12153 non-null  float64\n",
      " 3   BSMJ       12153 non-null  float64\n",
      " 4   ST001D01T  12153 non-null  float64\n",
      " 5   GCSELFEFF  12153 non-null  float64\n",
      " 6   PV8RTSN    12153 non-null  float64\n",
      " 7   PV10RCER   12153 non-null  float64\n",
      " 8   MASTGOAL   12153 non-null  float64\n",
      " 9   PV4RCER    12153 non-null  float64\n",
      " 10  GCAWARE    12153 non-null  float64\n",
      " 11  PV4RTML    12153 non-null  float64\n",
      " 12  PV10RTSN   12153 non-null  float64\n",
      " 13  PV4RCLI    12153 non-null  float64\n",
      " 14  PV1RCER    12153 non-null  float64\n",
      " 15  PV7RCUN    12153 non-null  float64\n",
      " 16  PV1RTML    12153 non-null  float64\n",
      " 17  PV3RCUN    12153 non-null  float64\n",
      " 18  PV5RTSN    12153 non-null  float64\n",
      " 19  PV6RTSN    12153 non-null  float64\n",
      " 20  PV8RTML    12153 non-null  float64\n",
      " 21  PV3RCER    12153 non-null  float64\n",
      " 22  PV9RCLI    12153 non-null  float64\n",
      " 23  PV8RCLI    12153 non-null  float64\n",
      " 24  PV9MATH    12153 non-null  float64\n",
      " 25  PV6RTML    12153 non-null  float64\n",
      " 26  PV9READ    12153 non-null  float64\n",
      " 27  PV8RCUN    12153 non-null  float64\n",
      " 28  PV3READ    12153 non-null  float64\n",
      " 29  PV3RTSN    12153 non-null  float64\n",
      " 30  PV2RTSN    12153 non-null  float64\n",
      " 31  PV1GLCM    12153 non-null  float64\n",
      " 32  PV7RCER    12153 non-null  float64\n",
      " 33  PV8RCER    12153 non-null  float64\n",
      " 34  PV9RTSN    12153 non-null  float64\n",
      " 35  PV10RTML   12153 non-null  float64\n",
      " 36  PV6RCER    12153 non-null  float64\n",
      " 37  PV5RCUN    12153 non-null  float64\n",
      " 38  PV10RCLI   12153 non-null  float64\n",
      " 39  PV7RTML    12153 non-null  float64\n",
      "dtypes: float64(40)\n",
      "memory usage: 3.7 MB\n"
     ]
    }
   ],
   "source": [
    "X_train_res.info()"
   ]
  },
  {
   "cell_type": "code",
   "execution_count": 61,
   "metadata": {},
   "outputs": [],
   "source": [
    "X_train_res.to_csv('./DatosAbandonoSinNanSub/X_train.csv', sep=',', decimal='.', index=False)\n",
    "y_train_res.to_csv('./DatosAbandonoSinNanSub/y_train.csv', sep=',', decimal='.', index=False)"
   ]
  },
  {
   "cell_type": "code",
   "execution_count": 62,
   "metadata": {},
   "outputs": [],
   "source": [
    "X_test.to_csv('./DatosAbandonoSinNanSub/X_test.csv', sep=',', decimal='.', index=False)\n",
    "y_test.to_csv('./DatosAbandonoSinNanSub/y_test.csv', sep=',', decimal='.', index=False)"
   ]
  },
  {
   "attachments": {},
   "cell_type": "markdown",
   "metadata": {},
   "source": [
    "### Oversampling"
   ]
  },
  {
   "cell_type": "code",
   "execution_count": 63,
   "metadata": {},
   "outputs": [],
   "source": [
    "from sklearn.metrics import confusion_matrix\n",
    "from sklearn.metrics import classification_report\n",
    "from sklearn.model_selection import train_test_split\n",
    "from sklearn.linear_model import LogisticRegression\n",
    "from sklearn.decomposition import PCA\n",
    "from sklearn.tree import DecisionTreeClassifier\n",
    "\n",
    "from pylab import rcParams\n",
    "\n",
    "from imblearn.under_sampling import NearMiss\n",
    "from imblearn.over_sampling import RandomOverSampler\n",
    "from imblearn.combine import SMOTETomek\n",
    "from imblearn.ensemble import BalancedBaggingClassifier\n",
    "\n",
    "from collections import Counter\n"
   ]
  },
  {
   "cell_type": "code",
   "execution_count": 64,
   "metadata": {},
   "outputs": [
    {
     "name": "stderr",
     "output_type": "stream",
     "text": [
      "c:\\Users\\ferni\\anaconda3\\lib\\site-packages\\imblearn\\utils\\_validation.py:313: UserWarning: After over-sampling, the number of samples (166551) in class 0 will be larger than the number of samples in the majority class (class #0.0 -> 17159)\n",
      "  warnings.warn(\n"
     ]
    }
   ],
   "source": [
    "os = RandomOverSampler(sampling_strategy = {0:166551, 1:10000, 2:10000})\n",
    "X_train_res, y_train_res = os.fit_resample(X_train, y_train)"
   ]
  },
  {
   "cell_type": "code",
   "execution_count": 65,
   "metadata": {},
   "outputs": [
    {
     "data": {
      "text/plain": [
       "DROPOUT_RISK\n",
       "0.0             17159\n",
       "2.0              5436\n",
       "1.0              2347\n",
       "dtype: int64"
      ]
     },
     "execution_count": 65,
     "metadata": {},
     "output_type": "execute_result"
    }
   ],
   "source": [
    "y_train.value_counts()"
   ]
  },
  {
   "cell_type": "code",
   "execution_count": 66,
   "metadata": {},
   "outputs": [
    {
     "data": {
      "text/plain": [
       "DROPOUT_RISK\n",
       "0.0             166551\n",
       "1.0              10000\n",
       "2.0              10000\n",
       "dtype: int64"
      ]
     },
     "execution_count": 66,
     "metadata": {},
     "output_type": "execute_result"
    }
   ],
   "source": [
    "y_train_res.value_counts()"
   ]
  },
  {
   "cell_type": "code",
   "execution_count": 67,
   "metadata": {},
   "outputs": [
    {
     "data": {
      "text/html": [
       "<div>\n",
       "<style scoped>\n",
       "    .dataframe tbody tr th:only-of-type {\n",
       "        vertical-align: middle;\n",
       "    }\n",
       "\n",
       "    .dataframe tbody tr th {\n",
       "        vertical-align: top;\n",
       "    }\n",
       "\n",
       "    .dataframe thead th {\n",
       "        text-align: right;\n",
       "    }\n",
       "</style>\n",
       "<table border=\"1\" class=\"dataframe\">\n",
       "  <thead>\n",
       "    <tr style=\"text-align: right;\">\n",
       "      <th></th>\n",
       "      <th>DROPOUT_RISK</th>\n",
       "    </tr>\n",
       "  </thead>\n",
       "  <tbody>\n",
       "    <tr>\n",
       "      <th>0</th>\n",
       "      <td>2.0</td>\n",
       "    </tr>\n",
       "    <tr>\n",
       "      <th>1</th>\n",
       "      <td>0.0</td>\n",
       "    </tr>\n",
       "    <tr>\n",
       "      <th>2</th>\n",
       "      <td>0.0</td>\n",
       "    </tr>\n",
       "    <tr>\n",
       "      <th>3</th>\n",
       "      <td>0.0</td>\n",
       "    </tr>\n",
       "    <tr>\n",
       "      <th>4</th>\n",
       "      <td>0.0</td>\n",
       "    </tr>\n",
       "  </tbody>\n",
       "</table>\n",
       "</div>"
      ],
      "text/plain": [
       "   DROPOUT_RISK\n",
       "0           2.0\n",
       "1           0.0\n",
       "2           0.0\n",
       "3           0.0\n",
       "4           0.0"
      ]
     },
     "execution_count": 67,
     "metadata": {},
     "output_type": "execute_result"
    }
   ],
   "source": [
    "y_train_res.head()"
   ]
  },
  {
   "cell_type": "code",
   "execution_count": 68,
   "metadata": {},
   "outputs": [
    {
     "data": {
      "text/html": [
       "<div>\n",
       "<style scoped>\n",
       "    .dataframe tbody tr th:only-of-type {\n",
       "        vertical-align: middle;\n",
       "    }\n",
       "\n",
       "    .dataframe tbody tr th {\n",
       "        vertical-align: top;\n",
       "    }\n",
       "\n",
       "    .dataframe thead th {\n",
       "        text-align: right;\n",
       "    }\n",
       "</style>\n",
       "<table border=\"1\" class=\"dataframe\">\n",
       "  <thead>\n",
       "    <tr style=\"text-align: right;\">\n",
       "      <th></th>\n",
       "      <th>OCOD3</th>\n",
       "      <th>SENWT</th>\n",
       "      <th>CNTSCHID</th>\n",
       "      <th>BSMJ</th>\n",
       "      <th>ST001D01T</th>\n",
       "      <th>GCSELFEFF</th>\n",
       "      <th>PV8RTSN</th>\n",
       "      <th>PV10RCER</th>\n",
       "      <th>MASTGOAL</th>\n",
       "      <th>PV4RCER</th>\n",
       "      <th>...</th>\n",
       "      <th>PV2RTSN</th>\n",
       "      <th>PV1GLCM</th>\n",
       "      <th>PV7RCER</th>\n",
       "      <th>PV8RCER</th>\n",
       "      <th>PV9RTSN</th>\n",
       "      <th>PV10RTML</th>\n",
       "      <th>PV6RCER</th>\n",
       "      <th>PV5RCUN</th>\n",
       "      <th>PV10RCLI</th>\n",
       "      <th>PV7RTML</th>\n",
       "    </tr>\n",
       "  </thead>\n",
       "  <tbody>\n",
       "    <tr>\n",
       "      <th>2981</th>\n",
       "      <td>2166.0</td>\n",
       "      <td>0.13192</td>\n",
       "      <td>72400807.0</td>\n",
       "      <td>79.740000</td>\n",
       "      <td>9.0</td>\n",
       "      <td>0.4678</td>\n",
       "      <td>526.323</td>\n",
       "      <td>521.747</td>\n",
       "      <td>-2.0701</td>\n",
       "      <td>441.721</td>\n",
       "      <td>...</td>\n",
       "      <td>473.378</td>\n",
       "      <td>506.454</td>\n",
       "      <td>414.594</td>\n",
       "      <td>471.736</td>\n",
       "      <td>416.076</td>\n",
       "      <td>475.662</td>\n",
       "      <td>435.675</td>\n",
       "      <td>422.110</td>\n",
       "      <td>511.977</td>\n",
       "      <td>457.772</td>\n",
       "    </tr>\n",
       "    <tr>\n",
       "      <th>29115</th>\n",
       "      <td>9704.0</td>\n",
       "      <td>0.11762</td>\n",
       "      <td>72400611.0</td>\n",
       "      <td>68.291484</td>\n",
       "      <td>10.0</td>\n",
       "      <td>-0.2748</td>\n",
       "      <td>548.550</td>\n",
       "      <td>591.977</td>\n",
       "      <td>-0.0940</td>\n",
       "      <td>602.918</td>\n",
       "      <td>...</td>\n",
       "      <td>562.749</td>\n",
       "      <td>603.205</td>\n",
       "      <td>571.540</td>\n",
       "      <td>559.750</td>\n",
       "      <td>538.285</td>\n",
       "      <td>544.191</td>\n",
       "      <td>556.007</td>\n",
       "      <td>596.359</td>\n",
       "      <td>636.066</td>\n",
       "      <td>551.533</td>\n",
       "    </tr>\n",
       "    <tr>\n",
       "      <th>3578</th>\n",
       "      <td>2149.0</td>\n",
       "      <td>0.03584</td>\n",
       "      <td>72400495.0</td>\n",
       "      <td>78.690000</td>\n",
       "      <td>10.0</td>\n",
       "      <td>0.1904</td>\n",
       "      <td>500.843</td>\n",
       "      <td>625.069</td>\n",
       "      <td>0.3468</td>\n",
       "      <td>556.307</td>\n",
       "      <td>...</td>\n",
       "      <td>507.630</td>\n",
       "      <td>520.248</td>\n",
       "      <td>462.912</td>\n",
       "      <td>486.849</td>\n",
       "      <td>525.122</td>\n",
       "      <td>515.561</td>\n",
       "      <td>537.818</td>\n",
       "      <td>615.189</td>\n",
       "      <td>475.595</td>\n",
       "      <td>474.676</td>\n",
       "    </tr>\n",
       "    <tr>\n",
       "      <th>2565</th>\n",
       "      <td>2149.0</td>\n",
       "      <td>0.06583</td>\n",
       "      <td>72400452.0</td>\n",
       "      <td>78.690000</td>\n",
       "      <td>10.0</td>\n",
       "      <td>-0.4200</td>\n",
       "      <td>550.693</td>\n",
       "      <td>593.103</td>\n",
       "      <td>0.5761</td>\n",
       "      <td>610.835</td>\n",
       "      <td>...</td>\n",
       "      <td>496.918</td>\n",
       "      <td>579.448</td>\n",
       "      <td>517.344</td>\n",
       "      <td>501.871</td>\n",
       "      <td>470.802</td>\n",
       "      <td>550.015</td>\n",
       "      <td>634.043</td>\n",
       "      <td>535.374</td>\n",
       "      <td>558.294</td>\n",
       "      <td>547.725</td>\n",
       "    </tr>\n",
       "    <tr>\n",
       "      <th>21431</th>\n",
       "      <td>2250.0</td>\n",
       "      <td>0.12886</td>\n",
       "      <td>72400039.0</td>\n",
       "      <td>84.140000</td>\n",
       "      <td>9.0</td>\n",
       "      <td>0.7559</td>\n",
       "      <td>400.932</td>\n",
       "      <td>535.828</td>\n",
       "      <td>-0.2151</td>\n",
       "      <td>372.172</td>\n",
       "      <td>...</td>\n",
       "      <td>415.774</td>\n",
       "      <td>519.590</td>\n",
       "      <td>540.930</td>\n",
       "      <td>438.689</td>\n",
       "      <td>415.118</td>\n",
       "      <td>424.512</td>\n",
       "      <td>440.286</td>\n",
       "      <td>497.883</td>\n",
       "      <td>447.503</td>\n",
       "      <td>492.055</td>\n",
       "    </tr>\n",
       "  </tbody>\n",
       "</table>\n",
       "<p>5 rows × 40 columns</p>\n",
       "</div>"
      ],
      "text/plain": [
       "        OCOD3    SENWT    CNTSCHID       BSMJ  ST001D01T  GCSELFEFF  PV8RTSN  \\\n",
       "2981   2166.0  0.13192  72400807.0  79.740000        9.0     0.4678  526.323   \n",
       "29115  9704.0  0.11762  72400611.0  68.291484       10.0    -0.2748  548.550   \n",
       "3578   2149.0  0.03584  72400495.0  78.690000       10.0     0.1904  500.843   \n",
       "2565   2149.0  0.06583  72400452.0  78.690000       10.0    -0.4200  550.693   \n",
       "21431  2250.0  0.12886  72400039.0  84.140000        9.0     0.7559  400.932   \n",
       "\n",
       "       PV10RCER  MASTGOAL  PV4RCER  ...  PV2RTSN  PV1GLCM  PV7RCER  PV8RCER  \\\n",
       "2981    521.747   -2.0701  441.721  ...  473.378  506.454  414.594  471.736   \n",
       "29115   591.977   -0.0940  602.918  ...  562.749  603.205  571.540  559.750   \n",
       "3578    625.069    0.3468  556.307  ...  507.630  520.248  462.912  486.849   \n",
       "2565    593.103    0.5761  610.835  ...  496.918  579.448  517.344  501.871   \n",
       "21431   535.828   -0.2151  372.172  ...  415.774  519.590  540.930  438.689   \n",
       "\n",
       "       PV9RTSN  PV10RTML  PV6RCER  PV5RCUN  PV10RCLI  PV7RTML  \n",
       "2981   416.076   475.662  435.675  422.110   511.977  457.772  \n",
       "29115  538.285   544.191  556.007  596.359   636.066  551.533  \n",
       "3578   525.122   515.561  537.818  615.189   475.595  474.676  \n",
       "2565   470.802   550.015  634.043  535.374   558.294  547.725  \n",
       "21431  415.118   424.512  440.286  497.883   447.503  492.055  \n",
       "\n",
       "[5 rows x 40 columns]"
      ]
     },
     "execution_count": 68,
     "metadata": {},
     "output_type": "execute_result"
    }
   ],
   "source": [
    "X_train.head()"
   ]
  },
  {
   "cell_type": "code",
   "execution_count": 69,
   "metadata": {},
   "outputs": [
    {
     "data": {
      "text/html": [
       "<div>\n",
       "<style scoped>\n",
       "    .dataframe tbody tr th:only-of-type {\n",
       "        vertical-align: middle;\n",
       "    }\n",
       "\n",
       "    .dataframe tbody tr th {\n",
       "        vertical-align: top;\n",
       "    }\n",
       "\n",
       "    .dataframe thead th {\n",
       "        text-align: right;\n",
       "    }\n",
       "</style>\n",
       "<table border=\"1\" class=\"dataframe\">\n",
       "  <thead>\n",
       "    <tr style=\"text-align: right;\">\n",
       "      <th></th>\n",
       "      <th>OCOD3</th>\n",
       "      <th>SENWT</th>\n",
       "      <th>CNTSCHID</th>\n",
       "      <th>BSMJ</th>\n",
       "      <th>ST001D01T</th>\n",
       "      <th>GCSELFEFF</th>\n",
       "      <th>PV8RTSN</th>\n",
       "      <th>PV10RCER</th>\n",
       "      <th>MASTGOAL</th>\n",
       "      <th>PV4RCER</th>\n",
       "      <th>...</th>\n",
       "      <th>PV2RTSN</th>\n",
       "      <th>PV1GLCM</th>\n",
       "      <th>PV7RCER</th>\n",
       "      <th>PV8RCER</th>\n",
       "      <th>PV9RTSN</th>\n",
       "      <th>PV10RTML</th>\n",
       "      <th>PV6RCER</th>\n",
       "      <th>PV5RCUN</th>\n",
       "      <th>PV10RCLI</th>\n",
       "      <th>PV7RTML</th>\n",
       "    </tr>\n",
       "  </thead>\n",
       "  <tbody>\n",
       "    <tr>\n",
       "      <th>0</th>\n",
       "      <td>2166.0</td>\n",
       "      <td>0.13192</td>\n",
       "      <td>72400807.0</td>\n",
       "      <td>79.740000</td>\n",
       "      <td>9.0</td>\n",
       "      <td>0.4678</td>\n",
       "      <td>526.323</td>\n",
       "      <td>521.747</td>\n",
       "      <td>-2.0701</td>\n",
       "      <td>441.721</td>\n",
       "      <td>...</td>\n",
       "      <td>473.378</td>\n",
       "      <td>506.454</td>\n",
       "      <td>414.594</td>\n",
       "      <td>471.736</td>\n",
       "      <td>416.076</td>\n",
       "      <td>475.662</td>\n",
       "      <td>435.675</td>\n",
       "      <td>422.110</td>\n",
       "      <td>511.977</td>\n",
       "      <td>457.772</td>\n",
       "    </tr>\n",
       "    <tr>\n",
       "      <th>1</th>\n",
       "      <td>9704.0</td>\n",
       "      <td>0.11762</td>\n",
       "      <td>72400611.0</td>\n",
       "      <td>68.291484</td>\n",
       "      <td>10.0</td>\n",
       "      <td>-0.2748</td>\n",
       "      <td>548.550</td>\n",
       "      <td>591.977</td>\n",
       "      <td>-0.0940</td>\n",
       "      <td>602.918</td>\n",
       "      <td>...</td>\n",
       "      <td>562.749</td>\n",
       "      <td>603.205</td>\n",
       "      <td>571.540</td>\n",
       "      <td>559.750</td>\n",
       "      <td>538.285</td>\n",
       "      <td>544.191</td>\n",
       "      <td>556.007</td>\n",
       "      <td>596.359</td>\n",
       "      <td>636.066</td>\n",
       "      <td>551.533</td>\n",
       "    </tr>\n",
       "    <tr>\n",
       "      <th>2</th>\n",
       "      <td>2149.0</td>\n",
       "      <td>0.03584</td>\n",
       "      <td>72400495.0</td>\n",
       "      <td>78.690000</td>\n",
       "      <td>10.0</td>\n",
       "      <td>0.1904</td>\n",
       "      <td>500.843</td>\n",
       "      <td>625.069</td>\n",
       "      <td>0.3468</td>\n",
       "      <td>556.307</td>\n",
       "      <td>...</td>\n",
       "      <td>507.630</td>\n",
       "      <td>520.248</td>\n",
       "      <td>462.912</td>\n",
       "      <td>486.849</td>\n",
       "      <td>525.122</td>\n",
       "      <td>515.561</td>\n",
       "      <td>537.818</td>\n",
       "      <td>615.189</td>\n",
       "      <td>475.595</td>\n",
       "      <td>474.676</td>\n",
       "    </tr>\n",
       "    <tr>\n",
       "      <th>3</th>\n",
       "      <td>2149.0</td>\n",
       "      <td>0.06583</td>\n",
       "      <td>72400452.0</td>\n",
       "      <td>78.690000</td>\n",
       "      <td>10.0</td>\n",
       "      <td>-0.4200</td>\n",
       "      <td>550.693</td>\n",
       "      <td>593.103</td>\n",
       "      <td>0.5761</td>\n",
       "      <td>610.835</td>\n",
       "      <td>...</td>\n",
       "      <td>496.918</td>\n",
       "      <td>579.448</td>\n",
       "      <td>517.344</td>\n",
       "      <td>501.871</td>\n",
       "      <td>470.802</td>\n",
       "      <td>550.015</td>\n",
       "      <td>634.043</td>\n",
       "      <td>535.374</td>\n",
       "      <td>558.294</td>\n",
       "      <td>547.725</td>\n",
       "    </tr>\n",
       "    <tr>\n",
       "      <th>4</th>\n",
       "      <td>2250.0</td>\n",
       "      <td>0.12886</td>\n",
       "      <td>72400039.0</td>\n",
       "      <td>84.140000</td>\n",
       "      <td>9.0</td>\n",
       "      <td>0.7559</td>\n",
       "      <td>400.932</td>\n",
       "      <td>535.828</td>\n",
       "      <td>-0.2151</td>\n",
       "      <td>372.172</td>\n",
       "      <td>...</td>\n",
       "      <td>415.774</td>\n",
       "      <td>519.590</td>\n",
       "      <td>540.930</td>\n",
       "      <td>438.689</td>\n",
       "      <td>415.118</td>\n",
       "      <td>424.512</td>\n",
       "      <td>440.286</td>\n",
       "      <td>497.883</td>\n",
       "      <td>447.503</td>\n",
       "      <td>492.055</td>\n",
       "    </tr>\n",
       "  </tbody>\n",
       "</table>\n",
       "<p>5 rows × 40 columns</p>\n",
       "</div>"
      ],
      "text/plain": [
       "    OCOD3    SENWT    CNTSCHID       BSMJ  ST001D01T  GCSELFEFF  PV8RTSN  \\\n",
       "0  2166.0  0.13192  72400807.0  79.740000        9.0     0.4678  526.323   \n",
       "1  9704.0  0.11762  72400611.0  68.291484       10.0    -0.2748  548.550   \n",
       "2  2149.0  0.03584  72400495.0  78.690000       10.0     0.1904  500.843   \n",
       "3  2149.0  0.06583  72400452.0  78.690000       10.0    -0.4200  550.693   \n",
       "4  2250.0  0.12886  72400039.0  84.140000        9.0     0.7559  400.932   \n",
       "\n",
       "   PV10RCER  MASTGOAL  PV4RCER  ...  PV2RTSN  PV1GLCM  PV7RCER  PV8RCER  \\\n",
       "0   521.747   -2.0701  441.721  ...  473.378  506.454  414.594  471.736   \n",
       "1   591.977   -0.0940  602.918  ...  562.749  603.205  571.540  559.750   \n",
       "2   625.069    0.3468  556.307  ...  507.630  520.248  462.912  486.849   \n",
       "3   593.103    0.5761  610.835  ...  496.918  579.448  517.344  501.871   \n",
       "4   535.828   -0.2151  372.172  ...  415.774  519.590  540.930  438.689   \n",
       "\n",
       "   PV9RTSN  PV10RTML  PV6RCER  PV5RCUN  PV10RCLI  PV7RTML  \n",
       "0  416.076   475.662  435.675  422.110   511.977  457.772  \n",
       "1  538.285   544.191  556.007  596.359   636.066  551.533  \n",
       "2  525.122   515.561  537.818  615.189   475.595  474.676  \n",
       "3  470.802   550.015  634.043  535.374   558.294  547.725  \n",
       "4  415.118   424.512  440.286  497.883   447.503  492.055  \n",
       "\n",
       "[5 rows x 40 columns]"
      ]
     },
     "execution_count": 69,
     "metadata": {},
     "output_type": "execute_result"
    }
   ],
   "source": [
    "X_train_res.head()"
   ]
  },
  {
   "cell_type": "code",
   "execution_count": 70,
   "metadata": {},
   "outputs": [],
   "source": [
    "X_train_res.to_csv('./DatosAbandonoSinNanOver/X_train.csv', sep=',', decimal='.', index=False)\n",
    "y_train_res.to_csv('./DatosAbandonoSinNanOver/y_train.csv', sep=',', decimal='.', index=False)"
   ]
  },
  {
   "cell_type": "code",
   "execution_count": 71,
   "metadata": {},
   "outputs": [],
   "source": [
    "X_test.to_csv('./DatosAbandonoSinNanOver/X_test.csv', sep=',', decimal='.', index=False)\n",
    "y_test.to_csv('./DatosAbandonoSinNanOver/y_test.csv', sep=',', decimal='.', index=False)"
   ]
  },
  {
   "cell_type": "code",
   "execution_count": null,
   "metadata": {},
   "outputs": [],
   "source": []
  }
 ],
 "metadata": {
  "kernelspec": {
   "display_name": "Python 3 (ipykernel)",
   "language": "python",
   "name": "python3"
  },
  "language_info": {
   "codemirror_mode": {
    "name": "ipython",
    "version": 3
   },
   "file_extension": ".py",
   "mimetype": "text/x-python",
   "name": "python",
   "nbconvert_exporter": "python",
   "pygments_lexer": "ipython3",
   "version": "3.10.9"
  }
 },
 "nbformat": 4,
 "nbformat_minor": 2
}
