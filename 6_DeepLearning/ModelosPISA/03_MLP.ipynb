{
 "cells": [
  {
   "attachments": {},
   "cell_type": "markdown",
   "metadata": {},
   "source": [
    "## Perceptrón multicapa"
   ]
  },
  {
   "attachments": {},
   "cell_type": "markdown",
   "metadata": {},
   "source": [
    "En esta parte de la práctica vamos a crear una red neuronal profunda, definiendo:\n",
    "- la capa de entrada, \n",
    "- las capas ocultas, \n",
    "- una capa de dropout para mejorar los resultados y evitar overfitting \n",
    "- y, finalmente, la capa de salida.\n",
    "\n",
    "Con la librería keras_tuner, vamos a optimizar la estructura de la red neural, ya que, vamos a seleccionar el número óptimo de neuronas, el número de capas ocultas y la cantidad de dropout a aplicar. Y todo ello de manera automática.\n",
    "\n",
    "Vamos a analizar distintos métodos para realizar la optimización de los hiperparámetros (Hyperband, Random search y Bayesian Optimization), viendo cómo funciona cada uno de ellos y comparando los resultados."
   ]
  },
  {
   "attachments": {},
   "cell_type": "markdown",
   "metadata": {},
   "source": [
    "En primer lugar realizamos las importaciones necesarias y cargando los sets de datos."
   ]
  },
  {
   "cell_type": "code",
   "execution_count": 33,
   "metadata": {},
   "outputs": [
    {
     "name": "stdout",
     "output_type": "stream",
     "text": [
      "Requirement already satisfied: keras_tuner in c:\\users\\ferni\\anaconda3\\envs\\deeplearning\\lib\\site-packages (1.3.5)\n",
      "Requirement already satisfied: requests in c:\\users\\ferni\\anaconda3\\envs\\deeplearning\\lib\\site-packages (from keras_tuner) (2.30.0)\n",
      "Requirement already satisfied: kt-legacy in c:\\users\\ferni\\anaconda3\\envs\\deeplearning\\lib\\site-packages (from keras_tuner) (1.0.5)\n",
      "Requirement already satisfied: packaging in c:\\users\\ferni\\anaconda3\\envs\\deeplearning\\lib\\site-packages (from keras_tuner) (23.1)\n",
      "Requirement already satisfied: certifi>=2017.4.17 in c:\\users\\ferni\\anaconda3\\envs\\deeplearning\\lib\\site-packages (from requests->keras_tuner) (2023.5.7)\n",
      "Requirement already satisfied: charset-normalizer<4,>=2 in c:\\users\\ferni\\anaconda3\\envs\\deeplearning\\lib\\site-packages (from requests->keras_tuner) (3.1.0)\n",
      "Requirement already satisfied: urllib3<3,>=1.21.1 in c:\\users\\ferni\\anaconda3\\envs\\deeplearning\\lib\\site-packages (from requests->keras_tuner) (2.0.2)\n",
      "Requirement already satisfied: idna<4,>=2.5 in c:\\users\\ferni\\anaconda3\\envs\\deeplearning\\lib\\site-packages (from requests->keras_tuner) (3.4)\n"
     ]
    }
   ],
   "source": [
    "#!pip install keras_tuner\n",
    "#!pip install tensorflow"
   ]
  },
  {
   "cell_type": "code",
   "execution_count": 4,
   "metadata": {},
   "outputs": [
    {
     "name": "stdout",
     "output_type": "stream",
     "text": [
      "Collecting scikit-learn\n",
      "  Downloading scikit_learn-1.2.2-cp310-cp310-win_amd64.whl (8.3 MB)\n",
      "     ---------------------------------------- 8.3/8.3 MB 14.7 MB/s eta 0:00:00\n",
      "Requirement already satisfied: numpy>=1.17.3 in c:\\users\\ferni\\anaconda3\\envs\\deeplearning\\lib\\site-packages (from scikit-learn) (1.23.5)\n",
      "Collecting threadpoolctl>=2.0.0\n",
      "  Downloading threadpoolctl-3.1.0-py3-none-any.whl (14 kB)\n",
      "Requirement already satisfied: scipy>=1.3.2 in c:\\users\\ferni\\anaconda3\\envs\\deeplearning\\lib\\site-packages (from scikit-learn) (1.10.1)\n",
      "Collecting joblib>=1.1.1\n",
      "  Downloading joblib-1.2.0-py3-none-any.whl (297 kB)\n",
      "     -------------------------------------- 298.0/298.0 kB 9.3 MB/s eta 0:00:00\n",
      "Installing collected packages: threadpoolctl, joblib, scikit-learn\n",
      "Successfully installed joblib-1.2.0 scikit-learn-1.2.2 threadpoolctl-3.1.0\n"
     ]
    }
   ],
   "source": [
    "#!pip install scikit-learn"
   ]
  },
  {
   "cell_type": "code",
   "execution_count": 34,
   "metadata": {},
   "outputs": [],
   "source": [
    "# Importamos las librerías necesarias.\n",
    "import pandas as pd\n",
    "import numpy as np\n",
    "import tensorflow as tf\n",
    "from tensorflow import keras\n",
    "from tensorflow.keras import models\n",
    "from tensorflow.keras import layers\n",
    "import keras_tuner as kt\n",
    "from sklearn.model_selection import train_test_split\n"
   ]
  },
  {
   "cell_type": "code",
   "execution_count": null,
   "metadata": {},
   "outputs": [],
   "source": []
  },
  {
   "cell_type": "code",
   "execution_count": 6,
   "metadata": {},
   "outputs": [],
   "source": [
    "# Importamos los datos de test, train y val.\n",
    "X_train = pd.read_csv(\"./DatosPisaSinNan/X_train.csv\", sep=',', decimal='.')\n",
    "y_train = pd.read_csv(\"./DatosPisaSinNan/y_train.csv\", sep=',', decimal='.')\n",
    "X_val = pd.read_csv(\"./DatosPisaSinNan/X_val.csv\", sep=',', decimal='.')\n",
    "y_val = pd.read_csv(\"./DatosPisaSinNan/y_val.csv\", sep=',', decimal='.')\n",
    "X_test = pd.read_csv(\"./DatosPisaSinNan/X_test.csv\", sep=',', decimal='.')\n",
    "y_test = pd.read_csv(\"./DatosPisaSinNan/y_test.csv\", sep=',', decimal='.')\n",
    "\n"
   ]
  },
  {
   "cell_type": "code",
   "execution_count": 7,
   "metadata": {},
   "outputs": [],
   "source": [
    "from sklearn import preprocessing\n",
    "\n",
    "#scaler = preprocessing.StandardScaler().fit(X_train)\n",
    "scaler = preprocessing.Normalizer().fit(X_train)\n",
    "X_train = scaler.transform(X_train)\n",
    "X_val = scaler.transform(X_val)\n",
    "X_test = scaler.transform(X_test)\n",
    "y_train = y_train/1000\n",
    "y_val = y_val/1000\n",
    "y_test = y_test/1000\n"
   ]
  },
  {
   "attachments": {},
   "cell_type": "markdown",
   "metadata": {},
   "source": [
    "Definimos la función que va a probar las distintas combinaciones de hyperparámetros que le indiquemos.\n",
    "Esta función equivale a un GridSearch por fuerza bruta, donde probaremos varios valores de capas, número de neuronas, de dropout y learning rate.\n",
    "Lo interesante es que vamos optimizar la búsqueda de hiperparametros utilizando tres tipos distintos de optimizadores que nos ofrece keras_tuner, como son: hyperband, random search y bayesian optimization."
   ]
  },
  {
   "attachments": {},
   "cell_type": "markdown",
   "metadata": {},
   "source": [
    "Para facilitar el cómputo, sólo se ha implementado una capa "
   ]
  },
  {
   "cell_type": "code",
   "execution_count": 8,
   "metadata": {},
   "outputs": [],
   "source": [
    "\n",
    "\n",
    "def model_builder(hp):\n",
    "    # Definición del modelo\n",
    "    model = keras.Sequential()\n",
    "\n",
    "    # Tuning del número de neuronas de las hidden layer\n",
    "    hp_units = hp.Int('units', min_value=4, max_value=16, step=4)\n",
    "    \n",
    "    # Tuning del número de capas\n",
    "    hp_layers = hp.Int('layers', min_value=1, max_value=3, step=1)\n",
    "\n",
    "    # Tuning del Dropout\n",
    "    hp_droupout = hp.Float('dropout',min_value=0.0,max_value=0.5, step=0.1)\n",
    "    \n",
    "    # Input layer\n",
    "    model.add(layers.Dense(units=16, activation='relu', input_shape=(X_test.shape[1],)))\n",
    "    \n",
    "    # Hidden layers \n",
    "    for i in range(hp_layers):\n",
    "        # Añadimos la hidden layer\n",
    "        model.add(layers.Dense(units=hp_units, activation='relu'))\n",
    "          \n",
    "    # Dropout layer\n",
    "    model.add(layers.Dropout(hp_droupout))\n",
    "\n",
    "    # Output layer\n",
    "    #model.add(layers.Dense(1, activation=None))\n",
    "    model.add(layers.Dense(1, activation='sigmoid'))\n",
    "    \n",
    "    # Seleccionamos el valor optimo entre [0.01, 0.001, 0.0001] del lr\n",
    "    hp_learning_rate = hp.Choice('learning_rate', values=[1e-2, 1e-3, 1e-4])\n",
    "    \n",
    "    # Compilamos el modelo\n",
    "    model.compile(\n",
    "        optimizer=keras.optimizers.Adam(learning_rate=hp_learning_rate), \n",
    "        loss= 'mse',\n",
    "        metrics= ['mse']\n",
    "    )\n",
    "    \n",
    "    return model"
   ]
  },
  {
   "attachments": {},
   "cell_type": "markdown",
   "metadata": {},
   "source": [
    "Creamos un callbacks que finalice el entrenamiento cuando las métricas monitoreadas empeoren."
   ]
  },
  {
   "cell_type": "code",
   "execution_count": 9,
   "metadata": {},
   "outputs": [],
   "source": [
    "\n",
    "callbacks = [\n",
    "    tf.keras.callbacks.EarlyStopping(\n",
    "        # Metrica a monitorear\n",
    "        monitor = 'val_loss',\n",
    "\n",
    "        # Numero de iteraciones sin mejora en la validacion (indicado en 'val_loss')\n",
    "        # antes de finalizar entrenamiento\n",
    "        patience=2\n",
    "    )\n",
    "]"
   ]
  },
  {
   "attachments": {},
   "cell_type": "markdown",
   "metadata": {},
   "source": [
    "### Hyperband\n",
    "\n",
    "Hyperband primero ejecuta configuraciones aleatorias de hiperparámetros para una iteración o dos, luego selecciona qué configuraciones funcionan bien y luego continúa ajustando las mejores."
   ]
  },
  {
   "cell_type": "code",
   "execution_count": 10,
   "metadata": {},
   "outputs": [],
   "source": [
    "# Lanzamos el tuning\n",
    "# Borrar el directorio hp_dir para reiniciarlo si overwrite es False\n",
    "# Poner overwrite a False si quieres conservar el modelo optimizado.\n",
    "tuner_hb = kt.Hyperband(\n",
    "    model_builder,\n",
    "    objective= 'mse',\n",
    "    max_epochs=30,\n",
    "    factor=3,\n",
    "    seed=42,\n",
    "    directory='hp_dir_hb',\n",
    "    project_name='ANN_project_hb',\n",
    "    overwrite = True \n",
    ")"
   ]
  },
  {
   "cell_type": "code",
   "execution_count": 11,
   "metadata": {},
   "outputs": [
    {
     "name": "stdout",
     "output_type": "stream",
     "text": [
      "WARNING:tensorflow:Callback method `on_train_batch_end` is slow compared to the batch time (batch time: 0.0002s vs `on_train_batch_end` time: 0.0002s). Check your callbacks.\n",
      "WARNING:tensorflow:Callback method `on_train_batch_end` is slow compared to the batch time (batch time: 0.0001s vs `on_train_batch_end` time: 0.0002s). Check your callbacks.\n",
      "WARNING:tensorflow:Callback method `on_train_batch_end` is slow compared to the batch time (batch time: 0.0001s vs `on_train_batch_end` time: 0.0002s). Check your callbacks.\n",
      "WARNING:tensorflow:Callback method `on_train_batch_end` is slow compared to the batch time (batch time: 0.0003s vs `on_train_batch_end` time: 0.0003s). Check your callbacks.\n",
      "WARNING:tensorflow:Callback method `on_train_batch_end` is slow compared to the batch time (batch time: 0.0001s vs `on_train_batch_end` time: 0.0004s). Check your callbacks.\n",
      "INFO:tensorflow:Oracle triggered exit\n"
     ]
    }
   ],
   "source": [
    "# Ejecución del proceso de tuning\n",
    "tuner_hb.search(\n",
    "    X_train, \n",
    "    y_train,\n",
    "    epochs=20,\n",
    "    validation_data=(X_val, y_val),\n",
    "    callbacks= callbacks,\n",
    "    verbose = 0\n",
    ")"
   ]
  },
  {
   "attachments": {},
   "cell_type": "markdown",
   "metadata": {},
   "source": [
    "Obtenemos los mejores hiperparámetros para nuestro modelo"
   ]
  },
  {
   "cell_type": "code",
   "execution_count": 12,
   "metadata": {},
   "outputs": [
    {
     "name": "stdout",
     "output_type": "stream",
     "text": [
      "Units: 8\n",
      "Layers: 2\n",
      "Dropout: 0.0\n"
     ]
    }
   ],
   "source": [
    "# Obtención de los hiperparámetros óptimos\n",
    "best_hps_hb = tuner_hb.get_best_hyperparameters(num_trials=1)[0]\n",
    "\n",
    "print(\"Units:\", best_hps_hb.get('units'))\n",
    "print(\"Layers:\", best_hps_hb.get('layers'))\n",
    "print(\"Dropout:\", best_hps_hb.get('dropout'))"
   ]
  },
  {
   "attachments": {},
   "cell_type": "markdown",
   "metadata": {},
   "source": [
    "Realizamos una evaluación de nuestro modelo optimizado con el set de test."
   ]
  },
  {
   "cell_type": "code",
   "execution_count": 13,
   "metadata": {},
   "outputs": [
    {
     "name": "stdout",
     "output_type": "stream",
     "text": [
      "111/111 [==============================] - 0s 716us/step - loss: 0.0026 - mse: 0.0026\n"
     ]
    },
    {
     "data": {
      "text/plain": [
       "[0.0025743236765265465, 0.0025743236765265465]"
      ]
     },
     "execution_count": 13,
     "metadata": {},
     "output_type": "execute_result"
    }
   ],
   "source": [
    "best_model_hb = tuner_hb.get_best_models(num_models=1)[0]\n",
    "best_model_hb.evaluate(X_test, y_test)"
   ]
  },
  {
   "attachments": {},
   "cell_type": "markdown",
   "metadata": {},
   "source": [
    "### Random Search"
   ]
  },
  {
   "attachments": {},
   "cell_type": "markdown",
   "metadata": {},
   "source": [
    "Como sugiere el nombre, este método de ajuste de hiperparámetros prueba aleatoriamente una combinación de hiperparámetros de un espacio de búsqueda determinado."
   ]
  },
  {
   "cell_type": "code",
   "execution_count": 14,
   "metadata": {},
   "outputs": [],
   "source": [
    "tuner_rs = kt.RandomSearch(\n",
    "            model_builder,                 \n",
    "            objective='mse', # 'val_loss'\n",
    "            seed=42,\n",
    "            max_trials=10,\n",
    "            directory='hp_dir_rs',\n",
    "            project_name='ANN_project_rs',\n",
    "            overwrite = True )\n"
   ]
  },
  {
   "cell_type": "code",
   "execution_count": 15,
   "metadata": {},
   "outputs": [
    {
     "name": "stdout",
     "output_type": "stream",
     "text": [
      "INFO:tensorflow:Oracle triggered exit\n",
      "111/111 [==============================] - 0s 754us/step - loss: 0.0026 - mse: 0.0026\n"
     ]
    }
   ],
   "source": [
    "tuner_rs.search(X_train, y_train, epochs=50, validation_split=0.2, callbacks = callbacks, verbose=0)\n",
    "best_model_rs = tuner_rs.get_best_models(num_models=1)[0]\n",
    "mse = best_model_rs.evaluate(X_test, y_test)"
   ]
  },
  {
   "cell_type": "code",
   "execution_count": 16,
   "metadata": {},
   "outputs": [
    {
     "name": "stdout",
     "output_type": "stream",
     "text": [
      "Units: 16\n",
      "Layers: 1\n",
      "Dropout: 0.0\n"
     ]
    }
   ],
   "source": [
    "# Podemos ver cuales han sido los mejores hiperparametros que ha seleccionado el modelo \n",
    "best_hyperband_rs = tuner_rs.get_best_hyperparameters(num_trials=1)[0]\n",
    "\n",
    "print(\"Units:\", best_hyperband_rs.get('units'))\n",
    "print(\"Layers:\", best_hyperband_rs.get('layers'))\n",
    "print(\"Dropout:\", best_hyperband_rs.get('dropout'))"
   ]
  },
  {
   "attachments": {},
   "cell_type": "markdown",
   "metadata": {},
   "source": [
    "Vamos a emplear la mejor estructura obtenida con el optimizador hyperband para entrenar nuestro modelo y ver qué resultados nos arroja."
   ]
  },
  {
   "cell_type": "code",
   "execution_count": 25,
   "metadata": {},
   "outputs": [
    {
     "name": "stdout",
     "output_type": "stream",
     "text": [
      "Epoch 1/30\n",
      "360/360 [==============================] - 1s 1ms/step - loss: 0.0049 - mse: 0.0049 - val_loss: 0.0033 - val_mse: 0.0033\n",
      "Epoch 2/30\n",
      "360/360 [==============================] - 0s 978us/step - loss: 0.0029 - mse: 0.0029 - val_loss: 0.0027 - val_mse: 0.0027\n",
      "Epoch 3/30\n",
      "360/360 [==============================] - 0s 978us/step - loss: 0.0027 - mse: 0.0027 - val_loss: 0.0026 - val_mse: 0.0026\n",
      "Epoch 4/30\n",
      "360/360 [==============================] - 0s 998us/step - loss: 0.0026 - mse: 0.0026 - val_loss: 0.0026 - val_mse: 0.0026\n",
      "Epoch 5/30\n",
      "360/360 [==============================] - 0s 964us/step - loss: 0.0026 - mse: 0.0026 - val_loss: 0.0025 - val_mse: 0.0025\n",
      "Epoch 6/30\n",
      "360/360 [==============================] - 0s 980us/step - loss: 0.0026 - mse: 0.0026 - val_loss: 0.0025 - val_mse: 0.0025\n",
      "Epoch 7/30\n",
      "360/360 [==============================] - 0s 1ms/step - loss: 0.0026 - mse: 0.0026 - val_loss: 0.0025 - val_mse: 0.0025\n",
      "Epoch 8/30\n",
      "360/360 [==============================] - 0s 968us/step - loss: 0.0026 - mse: 0.0026 - val_loss: 0.0025 - val_mse: 0.0025\n",
      "Epoch 9/30\n",
      "360/360 [==============================] - 0s 983us/step - loss: 0.0026 - mse: 0.0026 - val_loss: 0.0025 - val_mse: 0.0025\n",
      "Epoch 10/30\n",
      "360/360 [==============================] - 0s 975us/step - loss: 0.0026 - mse: 0.0026 - val_loss: 0.0025 - val_mse: 0.0025\n",
      "Epoch 11/30\n",
      "360/360 [==============================] - 0s 1ms/step - loss: 0.0026 - mse: 0.0026 - val_loss: 0.0025 - val_mse: 0.0025\n",
      "Epoch 12/30\n",
      "360/360 [==============================] - 0s 1ms/step - loss: 0.0026 - mse: 0.0026 - val_loss: 0.0025 - val_mse: 0.0025\n",
      "Epoch 13/30\n",
      "360/360 [==============================] - 0s 992us/step - loss: 0.0026 - mse: 0.0026 - val_loss: 0.0025 - val_mse: 0.0025\n"
     ]
    },
    {
     "data": {
      "text/plain": [
       "11"
      ]
     },
     "execution_count": 25,
     "metadata": {},
     "output_type": "execute_result"
    }
   ],
   "source": [
    "model = tuner_hb.hypermodel.build(best_hps_hb)\n",
    "\n",
    "history = model.fit(\n",
    "    X_train,\n",
    "    y_train,\n",
    "    epochs = 30,\n",
    "    validation_data = (X_val, y_val),\n",
    "    verbose = 1, \n",
    "    callbacks = callbacks\n",
    ")\n",
    "\n",
    "\n",
    "val_mse_per_epoch = history.history[\"val_mse\"]\n",
    "best_epoch = val_mse_per_epoch.index(min(val_mse_per_epoch))+1\n",
    "\n",
    "# Numero maximo de epoch usadas para entrenar el modelo\n",
    "best_epoch"
   ]
  },
  {
   "attachments": {},
   "cell_type": "markdown",
   "metadata": {},
   "source": [
    "Podemos ver como han ido cambiando los valores de loss y val_loss durante el entrenamiento.\n",
    "Se ve como el modelo ha convergido y no hay overfitting."
   ]
  },
  {
   "cell_type": "code",
   "execution_count": 27,
   "metadata": {},
   "outputs": [
    {
     "data": {
      "image/png": "[encoded data removed]",
      "text/plain": [
       "<Figure size 1000x600 with 1 Axes>"
      ]
     },
     "metadata": {},
     "output_type": "display_data"
    }
   ],
   "source": [
    "import pandas as pd\n",
    "import matplotlib.pyplot as plt\n",
    "\n",
    "pd.DataFrame(history.history)[['loss', 'val_loss']].plot(figsize=(10, 6))\n",
    "plt.grid(True)\n",
    "plt.xlabel(\"epochs\")\n",
    "plt.ylabel(\"loss\")\n",
    "plt.show()"
   ]
  },
  {
   "attachments": {},
   "cell_type": "markdown",
   "metadata": {},
   "source": [
    "Evaluamos nuestro modelo"
   ]
  },
  {
   "cell_type": "code",
   "execution_count": 28,
   "metadata": {},
   "outputs": [
    {
     "name": "stdout",
     "output_type": "stream",
     "text": [
      "111/111 [==============================] - 0s 760us/step - loss: 0.0026 - mse: 0.0026\n"
     ]
    },
    {
     "data": {
      "text/plain": [
       "[0.002577458741143346, 0.002577458741143346]"
      ]
     },
     "execution_count": 28,
     "metadata": {},
     "output_type": "execute_result"
    }
   ],
   "source": [
    "model.evaluate(X_test, y_test)"
   ]
  },
  {
   "attachments": {},
   "cell_type": "markdown",
   "metadata": {},
   "source": [
    "Deshacemos la normalización para obtener los valores reales de MSE y MAE. Con ellos, será más fácil evaluar el resultado de nuestro modelo."
   ]
  },
  {
   "cell_type": "code",
   "execution_count": 29,
   "metadata": {},
   "outputs": [
    {
     "name": "stdout",
     "output_type": "stream",
     "text": [
      "111/111 [==============================] - 0s 644us/step\n",
      "MSE:  2577.459104214213\n"
     ]
    }
   ],
   "source": [
    "from sklearn.metrics import mean_squared_error\n",
    "\n",
    "y_pred = model.predict(X_test)\n",
    "print(\"MSE: \", mean_squared_error(y_test*1000, y_pred*1000))\n"
   ]
  },
  {
   "cell_type": "code",
   "execution_count": 30,
   "metadata": {},
   "outputs": [
    {
     "name": "stdout",
     "output_type": "stream",
     "text": [
      "111/111 [==============================] - 0s 649us/step\n",
      "MAE: 40.50450343780988\n"
     ]
    }
   ],
   "source": [
    "from sklearn.metrics import mean_absolute_error\n",
    "\n",
    "y_pred = model.predict(X_test)\n",
    "print(\"MAE\"\":\", mean_absolute_error(y_test*1000, y_pred*1000))"
   ]
  },
  {
   "attachments": {},
   "cell_type": "markdown",
   "metadata": {},
   "source": [
    "Nuestro modelo tiene un error absoluto de 41.33 con respecto a los valores reales.\n",
    "Lo que le convierte a nuestro perceptrón multicapa en un predictor bastante bueno."
   ]
  }
 ],
 "metadata": {
  "kernelspec": {
   "display_name": "Python 3 (ipykernel)",
   "language": "python",
   "name": "python3"
  },
  "language_info": {
   "codemirror_mode": {
    "name": "ipython",
    "version": 3
   },
   "file_extension": ".py",
   "mimetype": "text/x-python",
   "name": "python",
   "nbconvert_exporter": "python",
   "pygments_lexer": "ipython3",
   "version": "3.10.11"
  },
  "vscode": {
   "interpreter": {
    "hash": "04b7ae8a82de45c1634b3d5d880dc7656391bd352e1b3f5773e3fb05259ff99e"
   }
  }
 },
 "nbformat": 4,
 "nbformat_minor": 2
}
