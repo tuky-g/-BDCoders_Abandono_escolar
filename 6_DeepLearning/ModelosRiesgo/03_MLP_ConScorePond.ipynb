{
 "cells": [
  {
   "attachments": {},
   "cell_type": "markdown",
   "metadata": {},
   "source": [
    "## Perceptrón multicapa"
   ]
  },
  {
   "attachments": {},
   "cell_type": "markdown",
   "metadata": {},
   "source": [
    "En esta parte de la práctica vamos a crear una red neuronal profunda, definiendo:\n",
    "- la capa de entrada, \n",
    "- las capas ocultas, \n",
    "- una capa de dropout para mejorar los resultados y evitar overfitting \n",
    "- y, finalmente, la capa de salida.\n",
    "\n",
    "Con la librería keras_tuner, vamos a optimizar la estructura de la red neural, ya que, vamos a seleccionar el número óptimo de neuronas, el número de capas ocultas y la cantidad de dropout a aplicar. Y todo ello de manera automática.\n",
    "\n",
    "Vamos a analizar distintos métodos para realizar la optimización de los hiperparámetros con Hyperband."
   ]
  },
  {
   "attachments": {},
   "cell_type": "markdown",
   "metadata": {},
   "source": [
    "En primer lugar realizamos las importaciones necesarias y cargando los sets de datos."
   ]
  },
  {
   "cell_type": "code",
   "execution_count": 70,
   "metadata": {},
   "outputs": [],
   "source": [
    "#!pip install keras_tuner\n",
    "#!pip install tensorflow"
   ]
  },
  {
   "cell_type": "code",
   "execution_count": 71,
   "metadata": {},
   "outputs": [],
   "source": [
    "# Importamos las librerías necesarias.\n",
    "import pandas as pd\n",
    "import numpy as np\n",
    "import tensorflow as tf\n",
    "from tensorflow import keras\n",
    "from tensorflow.keras import models\n",
    "from tensorflow.keras import layers\n",
    "import keras_tuner as kt\n",
    "from sklearn.model_selection import train_test_split\n"
   ]
  },
  {
   "cell_type": "code",
   "execution_count": null,
   "metadata": {},
   "outputs": [],
   "source": []
  },
  {
   "cell_type": "code",
   "execution_count": 72,
   "metadata": {},
   "outputs": [],
   "source": [
    "# Importamos los datos de test, train y val.\n",
    "X_train = pd.read_csv(\"./DatosAbandonoSinPondSinNanSub/X_train.csv\", sep=',', decimal='.')\n",
    "y_train = pd.read_csv(\"./DatosAbandonoSinPondSinNanSub/y_train.csv\", sep=',', decimal='.')\n",
    "#X_val = pd.read_csv(\"./DatosAbandonoSinPondSinNanSub/X_val.csv\", sep=',', decimal='.')\n",
    "#y_val = pd.read_csv(\"./DatosAbandonoSinPondSinNanSub/y_val.csv\", sep=',', decimal='.')\n",
    "X_test = pd.read_csv(\"./DatosAbandonoSinPondSinNanSub/X_test.csv\", sep=',', decimal='.')\n",
    "y_test = pd.read_csv(\"./DatosAbandonoSinPondSinNanSub/y_test.csv\", sep=',', decimal='.')\n",
    "\n"
   ]
  },
  {
   "cell_type": "code",
   "execution_count": 73,
   "metadata": {},
   "outputs": [
    {
     "data": {
      "text/html": [
       "<div>\n",
       "<style scoped>\n",
       "    .dataframe tbody tr th:only-of-type {\n",
       "        vertical-align: middle;\n",
       "    }\n",
       "\n",
       "    .dataframe tbody tr th {\n",
       "        vertical-align: top;\n",
       "    }\n",
       "\n",
       "    .dataframe thead th {\n",
       "        text-align: right;\n",
       "    }\n",
       "</style>\n",
       "<table border=\"1\" class=\"dataframe\">\n",
       "  <thead>\n",
       "    <tr style=\"text-align: right;\">\n",
       "      <th></th>\n",
       "      <th>DROPOUT_RISK</th>\n",
       "    </tr>\n",
       "  </thead>\n",
       "  <tbody>\n",
       "    <tr>\n",
       "      <th>0</th>\n",
       "      <td>0.0</td>\n",
       "    </tr>\n",
       "    <tr>\n",
       "      <th>1</th>\n",
       "      <td>0.0</td>\n",
       "    </tr>\n",
       "    <tr>\n",
       "      <th>2</th>\n",
       "      <td>0.0</td>\n",
       "    </tr>\n",
       "    <tr>\n",
       "      <th>3</th>\n",
       "      <td>0.0</td>\n",
       "    </tr>\n",
       "    <tr>\n",
       "      <th>4</th>\n",
       "      <td>0.0</td>\n",
       "    </tr>\n",
       "  </tbody>\n",
       "</table>\n",
       "</div>"
      ],
      "text/plain": [
       "   DROPOUT_RISK\n",
       "0           0.0\n",
       "1           0.0\n",
       "2           0.0\n",
       "3           0.0\n",
       "4           0.0"
      ]
     },
     "execution_count": 73,
     "metadata": {},
     "output_type": "execute_result"
    }
   ],
   "source": [
    "y_train.head()"
   ]
  },
  {
   "cell_type": "code",
   "execution_count": 74,
   "metadata": {},
   "outputs": [],
   "source": [
    "from sklearn import preprocessing\n",
    "\n",
    "scaler = preprocessing.StandardScaler().fit(X_train)\n",
    "#scaler = preprocessing.Normalizer().fit(X_train)\n",
    "X_train = scaler.transform(X_train)\n",
    "#X_val = scaler.transform(X_val)\n",
    "X_test = scaler.transform(X_test)\n",
    "y_train = y_train\n",
    "#y_val = y_val\n",
    "y_test = y_test\n"
   ]
  },
  {
   "cell_type": "code",
   "execution_count": 75,
   "metadata": {},
   "outputs": [],
   "source": [
    "from tensorflow.keras.utils import to_categorical"
   ]
  },
  {
   "cell_type": "code",
   "execution_count": 76,
   "metadata": {},
   "outputs": [],
   "source": [
    "# Pasamos a etiquetas one-hot encoded #(X)\n",
    "y_train = to_categorical(y_train)\n",
    "y_test = to_categorical(y_test)"
   ]
  },
  {
   "cell_type": "code",
   "execution_count": 77,
   "metadata": {},
   "outputs": [
    {
     "name": "stdout",
     "output_type": "stream",
     "text": [
      "[[-0.66351371 -0.08788857 -0.06848728 ...  0.59145904  0.17949632\n",
      "  -0.34345195]\n",
      " [-0.63600507 -0.52430352 -0.08451685 ...  0.60602674  0.60528145\n",
      "   0.32657895]\n",
      " [-0.49234883 -0.53762183 -0.01719265 ... -0.68425372 -0.12792844\n",
      "  -0.85689288]\n",
      " ...\n",
      " [-0.22541314 -0.45002304  1.2395258  ... -2.41846921 -3.27628582\n",
      "  -2.48370736]\n",
      " [ 1.03319205 -0.8549958   0.02127832 ... -1.42918381 -2.16202626\n",
      "  -1.30006069]\n",
      " [ 1.16530145 -0.71824284 -1.68747406 ... -1.27988723 -0.41082734\n",
      "  -0.82501477]]\n",
      "(12153, 3)\n"
     ]
    }
   ],
   "source": [
    "print(X_train)\n",
    "print(y_train.shape)\n"
   ]
  },
  {
   "cell_type": "code",
   "execution_count": 78,
   "metadata": {},
   "outputs": [
    {
     "data": {
      "text/plain": [
       "array([[1., 0., 0.],\n",
       "       [1., 0., 0.],\n",
       "       [1., 0., 0.],\n",
       "       ...,\n",
       "       [0., 0., 1.],\n",
       "       [0., 0., 1.],\n",
       "       [0., 0., 1.]], dtype=float32)"
      ]
     },
     "execution_count": 78,
     "metadata": {},
     "output_type": "execute_result"
    }
   ],
   "source": [
    "y_train"
   ]
  },
  {
   "attachments": {},
   "cell_type": "markdown",
   "metadata": {},
   "source": [
    "Definimos la función que va a probar las distintas combinaciones de hyperparámetros que le indiquemos.\n",
    "Esta función equivale a un GridSearch por fuerza bruta, donde probaremos varios valores de capas, número de neuronas, de dropout y learning rate."
   ]
  },
  {
   "attachments": {},
   "cell_type": "markdown",
   "metadata": {},
   "source": [
    "Para facilitar el cómputo, sólo se ha implementado una capa "
   ]
  },
  {
   "cell_type": "code",
   "execution_count": 79,
   "metadata": {},
   "outputs": [],
   "source": [
    "def model_builder(hp):\n",
    "    # Definición del modelo\n",
    "    model = keras.Sequential()\n",
    "\n",
    "    # Tuning del número de neuronas de las hidden layer\n",
    "    hp_units = hp.Int('units', min_value=8, max_value=128, step=8)\n",
    "    \n",
    "    # Tuning del número de capas\n",
    "    hp_layers = hp.Int('layers', min_value=1, max_value=5, step=1)\n",
    "    \n",
    "    # Input layer\n",
    "    model.add(layers.Dense(units=128, activation='relu', input_shape=(X_test.shape[1],)))\n",
    "    \n",
    "    # Hidden layers \n",
    "    for i in range(hp_layers):\n",
    "        # Añadimos la hidden layer\n",
    "        model.add(layers.Dense(units=hp_units, activation='relu'))\n",
    "        \n",
    "    # Output layer\n",
    "    model.add(layers.Dense(3, activation='softmax'))\n",
    "    \n",
    "    # Seleccionamos el valor optimo entre [0.01, 0.001, 0.0001]\n",
    "    hp_learning_rate = hp.Choice('learning_rate', values=[1e-4, 1e-5,1e-6])\n",
    "    \n",
    "    model.compile(\n",
    "        optimizer=keras.optimizers.Adam(learning_rate=hp_learning_rate), \n",
    "        #optimizer='sgd',\n",
    "        loss='categorical_crossentropy',\n",
    "        metrics=['accuracy']\n",
    "    )\n",
    "    \n",
    "    return model"
   ]
  },
  {
   "cell_type": "code",
   "execution_count": 80,
   "metadata": {},
   "outputs": [],
   "source": [
    "tuner = kt.Hyperband(\n",
    "    model_builder,\n",
    "    objective= 'val_accuracy',\n",
    "    max_epochs=10,\n",
    "    factor=3,\n",
    "    directory='hp_dir',\n",
    "    project_name='ruters_dataset',\n",
    "    overwrite = True\n",
    ")"
   ]
  },
  {
   "cell_type": "code",
   "execution_count": 81,
   "metadata": {},
   "outputs": [],
   "source": [
    "# Creamos una función de callback que limpie el output\n",
    "import IPython\n",
    "import tensorflow as tf\n",
    "\n",
    "class ClearTrainingOutput(tf.keras.callbacks.Callback):\n",
    "    def on_train_end(*args, **kwargs):\n",
    "        IPython.display.clear_output(wait = True)"
   ]
  },
  {
   "cell_type": "code",
   "execution_count": 82,
   "metadata": {},
   "outputs": [
    {
     "name": "stdout",
     "output_type": "stream",
     "text": [
      "Trial 30 Complete [00h 00m 05s]\n",
      "val_accuracy: 0.6824352145195007\n",
      "\n",
      "Best val_accuracy So Far: 0.9292472004890442\n",
      "Total elapsed time: 00h 01m 15s\n",
      "INFO:tensorflow:Oracle triggered exit\n"
     ]
    }
   ],
   "source": [
    "# Ejecución del proceso de tuning\n",
    "tuner.search(\n",
    "    X_train, \n",
    "    y_train,\n",
    "    epochs=10,\n",
    "    validation_split=0.2,\n",
    "    callbacks=[ClearTrainingOutput()]\n",
    ")"
   ]
  },
  {
   "cell_type": "code",
   "execution_count": 83,
   "metadata": {},
   "outputs": [
    {
     "name": "stdout",
     "output_type": "stream",
     "text": [
      "Units: 48\n",
      "Layers: 3\n"
     ]
    }
   ],
   "source": [
    "# Obtención de los hiperparámetros óptimos\n",
    "best_hps = tuner.get_best_hyperparameters(num_trials=1)[0]\n",
    "\n",
    "print(\"Units:\", best_hps.get('units'))\n",
    "print(\"Layers:\", best_hps.get('layers'))"
   ]
  },
  {
   "cell_type": "code",
   "execution_count": 84,
   "metadata": {},
   "outputs": [
    {
     "name": "stdout",
     "output_type": "stream",
     "text": [
      "Epoch 1/20\n",
      "304/304 [==============================] - 1s 1ms/step - loss: 1.0416 - accuracy: 0.5309 - val_loss: 1.0541 - val_accuracy: 0.5537\n",
      "Epoch 2/20\n",
      "304/304 [==============================] - 0s 1ms/step - loss: 1.0158 - accuracy: 0.5502 - val_loss: 1.0175 - val_accuracy: 0.6277\n",
      "Epoch 3/20\n",
      "304/304 [==============================] - 0s 1ms/step - loss: 1.0013 - accuracy: 0.5570 - val_loss: 0.9949 - val_accuracy: 0.6508\n",
      "Epoch 4/20\n",
      "304/304 [==============================] - 0s 1ms/step - loss: 0.9911 - accuracy: 0.5606 - val_loss: 0.9753 - val_accuracy: 0.6619\n",
      "Epoch 5/20\n",
      "304/304 [==============================] - 0s 1ms/step - loss: 0.9827 - accuracy: 0.5630 - val_loss: 0.9620 - val_accuracy: 0.6763\n",
      "Epoch 6/20\n",
      "304/304 [==============================] - 0s 1ms/step - loss: 0.9750 - accuracy: 0.5657 - val_loss: 0.9485 - val_accuracy: 0.6791\n",
      "Epoch 7/20\n",
      "304/304 [==============================] - 0s 1ms/step - loss: 0.9678 - accuracy: 0.5691 - val_loss: 0.9299 - val_accuracy: 0.6898\n",
      "Epoch 8/20\n",
      "304/304 [==============================] - 0s 1ms/step - loss: 0.9611 - accuracy: 0.5712 - val_loss: 0.9103 - val_accuracy: 0.7001\n",
      "Epoch 9/20\n",
      "304/304 [==============================] - 0s 1ms/step - loss: 0.9549 - accuracy: 0.5736 - val_loss: 0.8970 - val_accuracy: 0.7042\n",
      "Epoch 10/20\n",
      "304/304 [==============================] - 0s 1ms/step - loss: 0.9493 - accuracy: 0.5753 - val_loss: 0.8815 - val_accuracy: 0.7092\n",
      "Epoch 11/20\n",
      "304/304 [==============================] - 0s 1ms/step - loss: 0.9444 - accuracy: 0.5769 - val_loss: 0.8804 - val_accuracy: 0.7100\n",
      "Epoch 12/20\n",
      "304/304 [==============================] - 0s 1ms/step - loss: 0.9400 - accuracy: 0.5788 - val_loss: 0.8634 - val_accuracy: 0.7207\n",
      "Epoch 13/20\n",
      "304/304 [==============================] - 0s 1ms/step - loss: 0.9362 - accuracy: 0.5816 - val_loss: 0.8606 - val_accuracy: 0.7227\n",
      "Epoch 14/20\n",
      "304/304 [==============================] - 0s 1ms/step - loss: 0.9328 - accuracy: 0.5827 - val_loss: 0.8490 - val_accuracy: 0.7322\n",
      "Epoch 15/20\n",
      "304/304 [==============================] - 0s 1ms/step - loss: 0.9299 - accuracy: 0.5841 - val_loss: 0.8412 - val_accuracy: 0.7376\n",
      "Epoch 16/20\n",
      "304/304 [==============================] - 0s 1ms/step - loss: 0.9273 - accuracy: 0.5840 - val_loss: 0.8471 - val_accuracy: 0.7388\n",
      "Epoch 17/20\n",
      "304/304 [==============================] - 0s 1ms/step - loss: 0.9250 - accuracy: 0.5852 - val_loss: 0.8488 - val_accuracy: 0.7417\n",
      "Epoch 18/20\n",
      "304/304 [==============================] - 0s 1ms/step - loss: 0.9231 - accuracy: 0.5850 - val_loss: 0.8379 - val_accuracy: 0.7454\n",
      "Epoch 19/20\n",
      "304/304 [==============================] - 0s 1ms/step - loss: 0.9214 - accuracy: 0.5873 - val_loss: 0.8387 - val_accuracy: 0.7458\n",
      "Epoch 20/20\n",
      "304/304 [==============================] - 0s 1ms/step - loss: 0.9199 - accuracy: 0.5867 - val_loss: 0.8300 - val_accuracy: 0.7515\n"
     ]
    }
   ],
   "source": [
    "model = tuner.hypermodel.build(best_hps)\n",
    "\n",
    "history = model.fit(\n",
    "    X_train,\n",
    "    y_train,\n",
    "    epochs = 20,\n",
    "    validation_split = 0.2,\n",
    "    shuffle = True\n",
    ")"
   ]
  },
  {
   "cell_type": "code",
   "execution_count": 85,
   "metadata": {},
   "outputs": [
    {
     "data": {
      "image/png": "[encoded data removed]",
      "text/plain": [
       "<Figure size 1000x600 with 1 Axes>"
      ]
     },
     "metadata": {},
     "output_type": "display_data"
    }
   ],
   "source": [
    "import pandas as pd\n",
    "import matplotlib.pyplot as plt\n",
    "\n",
    "pd.DataFrame(history.history)[['loss', 'val_loss']].plot(figsize=(10, 6))\n",
    "plt.grid(True)\n",
    "plt.xlabel(\"epochs\")\n",
    "plt.ylabel(\"loss\")\n",
    "plt.show()"
   ]
  },
  {
   "cell_type": "code",
   "execution_count": 86,
   "metadata": {},
   "outputs": [
    {
     "data": {
      "image/png": "[encoded data removed]",
      "text/plain": [
       "<Figure size 1000x600 with 1 Axes>"
      ]
     },
     "metadata": {},
     "output_type": "display_data"
    }
   ],
   "source": [
    "import pandas as pd\n",
    "import matplotlib.pyplot as plt\n",
    "\n",
    "pd.DataFrame(history.history)[['accuracy', 'val_accuracy']].plot(figsize=(10, 6))\n",
    "plt.grid(True)\n",
    "plt.xlabel(\"epochs\")\n",
    "plt.ylabel(\"accuracy\")\n",
    "plt.show()"
   ]
  },
  {
   "cell_type": "code",
   "execution_count": 87,
   "metadata": {},
   "outputs": [
    {
     "name": "stdout",
     "output_type": "stream",
     "text": [
      "195/195 [==============================] - 0s 720us/step - loss: 0.8979 - accuracy: 0.6220\n"
     ]
    },
    {
     "data": {
      "text/plain": [
       "[0.8979254961013794, 0.6220333576202393]"
      ]
     },
     "execution_count": 87,
     "metadata": {},
     "output_type": "execute_result"
    }
   ],
   "source": [
    "model.evaluate(X_test, y_test)"
   ]
  },
  {
   "cell_type": "code",
   "execution_count": 88,
   "metadata": {},
   "outputs": [
    {
     "name": "stdout",
     "output_type": "stream",
     "text": [
      "195/195 [==============================] - 0s 641us/step\n"
     ]
    },
    {
     "data": {
      "text/plain": [
       "array([[1., 0., 0.],\n",
       "       [0., 0., 1.],\n",
       "       [0., 0., 0.],\n",
       "       ...,\n",
       "       [0., 0., 0.],\n",
       "       [0., 0., 0.],\n",
       "       [1., 0., 0.]], dtype=float32)"
      ]
     },
     "execution_count": 88,
     "metadata": {},
     "output_type": "execute_result"
    }
   ],
   "source": [
    "model.predict(X_test).round(0)"
   ]
  },
  {
   "attachments": {},
   "cell_type": "markdown",
   "metadata": {},
   "source": [
    "Deshacemos la normalización para obtener los valores reales de MSE y MAE. Con ellos, será más fácil evaluar el resultado de nuestro modelo."
   ]
  },
  {
   "cell_type": "code",
   "execution_count": 89,
   "metadata": {},
   "outputs": [],
   "source": [
    "from sklearn.metrics import confusion_matrix, classification_report  "
   ]
  },
  {
   "cell_type": "code",
   "execution_count": 90,
   "metadata": {},
   "outputs": [
    {
     "name": "stdout",
     "output_type": "stream",
     "text": [
      "195/195 [==============================] - 0s 631us/step\n",
      "[[0.77939646 0.79428571 0.50097943]\n",
      " [0.10275754 0.08285714 0.08080313]\n",
      " [0.11784599 0.12285714 0.41821743]]\n"
     ]
    }
   ],
   "source": [
    "#Predict\n",
    "y_prediction = model.predict(X_test)\n",
    "y_prediction = np.argmax (y_prediction, axis = 1)\n",
    "y_test=np.argmax(y_test, axis=1)\n",
    "#Create confusion matrix and normalizes it over predicted (columns)\n",
    "result = confusion_matrix(y_test, y_prediction , normalize='pred')\n",
    "print(result)"
   ]
  },
  {
   "cell_type": "code",
   "execution_count": 91,
   "metadata": {},
   "outputs": [
    {
     "name": "stdout",
     "output_type": "stream",
     "text": [
      "195/195 [==============================] - 0s 644us/step\n"
     ]
    },
    {
     "data": {
      "text/plain": [
       "array([[2996,  278, 1023],\n",
       "       [ 395,   29,  165],\n",
       "       [ 453,   43,  854]], dtype=int64)"
      ]
     },
     "execution_count": 91,
     "metadata": {},
     "output_type": "execute_result"
    }
   ],
   "source": [
    "snn_pred = model.predict(X_test, batch_size=32, verbose=1)  \n",
    "snn_predicted = np.argmax(snn_pred, axis=1)\n",
    "\n",
    "\n",
    "#Creamos la matriz de confusión\n",
    "snn_cm = confusion_matrix(y_test, snn_predicted)\n",
    "\n",
    "snn_cm"
   ]
  },
  {
   "cell_type": "code",
   "execution_count": 92,
   "metadata": {},
   "outputs": [
    {
     "name": "stdout",
     "output_type": "stream",
     "text": [
      "              precision    recall  f1-score   support\n",
      "\n",
      "           0       0.78      0.70      0.74      4297\n",
      "           1       0.08      0.05      0.06       589\n",
      "           2       0.42      0.63      0.50      1350\n",
      "\n",
      "    accuracy                           0.62      6236\n",
      "   macro avg       0.43      0.46      0.43      6236\n",
      "weighted avg       0.64      0.62      0.62      6236\n",
      "\n"
     ]
    }
   ],
   "source": [
    "snn_report = classification_report(y_test, snn_predicted)  \n",
    "print(snn_report)"
   ]
  }
 ],
 "metadata": {
  "kernelspec": {
   "display_name": "Python 3 (ipykernel)",
   "language": "python",
   "name": "python3"
  },
  "language_info": {
   "codemirror_mode": {
    "name": "ipython",
    "version": 3
   },
   "file_extension": ".py",
   "mimetype": "text/x-python",
   "name": "python",
   "nbconvert_exporter": "python",
   "pygments_lexer": "ipython3",
   "version": "3.10.11"
  },
  "vscode": {
   "interpreter": {
    "hash": "04b7ae8a82de45c1634b3d5d880dc7656391bd352e1b3f5773e3fb05259ff99e"
   }
  }
 },
 "nbformat": 4,
 "nbformat_minor": 2
}
