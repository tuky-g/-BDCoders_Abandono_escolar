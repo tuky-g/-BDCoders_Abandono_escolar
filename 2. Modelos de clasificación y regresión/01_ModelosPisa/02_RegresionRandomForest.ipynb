{
 "cells": [
  {
   "cell_type": "code",
   "execution_count": 1,
   "metadata": {},
   "outputs": [],
   "source": [
    "import numpy as np\n",
    "import pandas as pd\n",
    "\n",
    "\n",
    "import matplotlib.pyplot as plt\n",
    "from matplotlib.colors import ListedColormap\n",
    "%matplotlib inline\n",
    "\n",
    "cm = plt.cm.RdBu\n",
    "cm_bright = ListedColormap(['#FF0000', '#0000FF'])\n",
    "\n",
    "import warnings\n",
    "warnings.filterwarnings('ignore')\n",
    "\n",
    "from sklearn.model_selection import GridSearchCV\n",
    "\n",
    "\n",
    "pd.set_option('display.max_rows', None) # para mostrar todas las filas\n",
    "pd.set_option('display.max_columns', None) # para mostrar todas las columnas"
   ]
  },
  {
   "cell_type": "code",
   "execution_count": 2,
   "metadata": {},
   "outputs": [],
   "source": [
    "# Importamos los datos\n",
    "X_train = pd.read_csv(\"./DatosPisaSinNan/X_train.csv\", sep=',', decimal='.')\n",
    "y_train = pd.read_csv(\"./DatosPisaSinNan/y_train.csv\", sep=',', decimal='.')\n",
    "X_val = pd.read_csv(\"./DatosPisaSinNan/X_val.csv\", sep=',', decimal='.')\n",
    "y_val = pd.read_csv(\"./DatosPisaSinNan/y_val.csv\", sep=',', decimal='.')\n",
    "X_test = pd.read_csv(\"./DatosPisaSinNan/X_test.csv\", sep=',', decimal='.')\n",
    "y_test = pd.read_csv(\"./DatosPisaSinNan/y_test.csv\", sep=',', decimal='.')"
   ]
  },
  {
   "attachments": {},
   "cell_type": "markdown",
   "metadata": {},
   "source": [
    "Pasamos los dataframes a numpy array"
   ]
  },
  {
   "cell_type": "code",
   "execution_count": 3,
   "metadata": {},
   "outputs": [],
   "source": [
    "feature_names = X_train.columns[:]\n",
    "\n",
    "X_train = X_train.values\n",
    "y_train = y_train.values\n",
    "\n"
   ]
  },
  {
   "attachments": {},
   "cell_type": "markdown",
   "metadata": {},
   "source": [
    "### Estandarización de datos"
   ]
  },
  {
   "attachments": {},
   "cell_type": "markdown",
   "metadata": {},
   "source": [
    "Escalamos con los datos de train"
   ]
  },
  {
   "cell_type": "code",
   "execution_count": 4,
   "metadata": {},
   "outputs": [],
   "source": [
    "from sklearn import preprocessing\n",
    "\n",
    "scaler = preprocessing.StandardScaler().fit(X_train)\n",
    "#scaler = preprocessing.Normalizer().fit(X_train)\n",
    "XtrainScaled = scaler.transform(X_train)\n",
    "XvalScaled = scaler.transform(X_val)\n",
    "XtestScaled = scaler.transform(X_test)"
   ]
  },
  {
   "attachments": {},
   "cell_type": "markdown",
   "metadata": {},
   "source": [
    "### Random Forest"
   ]
  },
  {
   "cell_type": "code",
   "execution_count": 5,
   "metadata": {},
   "outputs": [
    {
     "name": "stdout",
     "output_type": "stream",
     "text": [
      "R^2 en datos de test: 0.561\n",
      "Mediana del error en datos de test: 35.005\n",
      "Media del error en datos de test: 41.31\n"
     ]
    }
   ],
   "source": [
    "# Otro método que da mejores resultados: Random Forest\n",
    "\n",
    "from sklearn.ensemble import RandomForestRegressor\n",
    "from sklearn.metrics import mean_absolute_error\n",
    "from sklearn.metrics import median_absolute_error\n",
    "\n",
    "rf = RandomForestRegressor(oob_score = True)\n",
    "rf.fit(XtrainScaled, y_train)\n",
    "\n",
    "y_predict = rf.predict(XtestScaled)\n",
    "rf_testing_set_score = rf.score(XtestScaled, y_test)\n",
    "rf_median_abs_error = median_absolute_error(y_test, y_predict)\n",
    "rf_mean_abs_error = mean_absolute_error(y_test, y_predict)\n",
    "print('R^2 en datos de test: ' + str(round(rf_testing_set_score,3)))\n",
    "print('Mediana del error en datos de test: ' + str(round(rf_median_abs_error,3)))\n",
    "print('Media del error en datos de test: ' + str(round(rf_mean_abs_error,3)))"
   ]
  },
  {
   "cell_type": "code",
   "execution_count": 9,
   "metadata": {},
   "outputs": [
    {
     "name": "stdout",
     "output_type": "stream",
     "text": [
      "Mejores parámetros: {'max_depth': 5, 'min_samples_split': 6, 'n_estimators': 100}\n",
      "R^2 en datos de test: 0.561\n",
      "Mediana del error en datos de test: 35.005\n",
      "Media del error en datos de test: 43.296\n"
     ]
    }
   ],
   "source": [
    "# Estos parámetros producian overfitting, el MAE de train baja a 15 mientras que el de test se queda en 41\n",
    "# tuned_parameters = {\n",
    "#     \"n_estimators\": [100, 500, 1000, 2000]\n",
    "# }\n",
    "# rf_tuned = GridSearchCV(RandomForestRegressor(), cv = 3, param_grid = tuned_parameters)\n",
    "\n",
    "param_grid = {\"max_depth\": range(2,6), \"min_samples_split\": range(4,8,2), \"n_estimators\": range(100, 500, 200)}\n",
    "# Mejores parámetros: {'max_depth': 5, 'min_samples_split': 6, 'n_estimators': 100}\n",
    "\n",
    "rf_tuned = GridSearchCV(RandomForestRegressor(), cv = 5, param_grid = param_grid)\n",
    "\n",
    "preds = rf_tuned.fit(XtrainScaled, y_train)\n",
    "best = rf_tuned.best_estimator_ \n",
    "y_predict = rf_tuned.predict(XtestScaled)\n",
    "rft_testing_set_score = rf_tuned.score(XtestScaled, y_test)\n",
    "rft_median_abs_error = median_absolute_error(y_test, y_predict)\n",
    "rf_mean_abs_error = mean_absolute_error(y_test, y_predict)\n",
    "\n",
    "print('Mejores parámetros:', rf_tuned.best_params_)\n",
    "print('R^2 en datos de test: ' + str(round(rf_testing_set_score,3)))\n",
    "print('Mediana del error en datos de test: ' + str(round(rf_median_abs_error,3)))\n",
    "print('Media del error en datos de test: ' + str(round(rf_mean_abs_error,3)))\n",
    "\n",
    "# tarda 2 minutos en entrenar"
   ]
  },
  {
   "cell_type": "code",
   "execution_count": 11,
   "metadata": {},
   "outputs": [
    {
     "name": "stdout",
     "output_type": "stream",
     "text": [
      "MSE Modelo RandomForestRegressor (train): 2781.8\n",
      "MSE Modelo RandomForestRegressor (test) : 2946\n",
      "\n",
      "MAE Modelo RandomForestRegressor (train): 41.826\n",
      "MAE Modelo RandomForestRegressor (test) : 43.296\n"
     ]
    }
   ],
   "source": [
    "from sklearn.metrics import mean_squared_error \n",
    "from sklearn.metrics import mean_absolute_error\n",
    "\n",
    "\n",
    "ytrainrf_tuned = rf_tuned.predict(XtrainScaled)\n",
    "ytestrf_tuned  = rf_tuned.predict(XtestScaled)\n",
    "mseTrainModelrf_tuned = mean_squared_error(y_train,ytrainrf_tuned)\n",
    "mseTestModelrf_tuned = mean_squared_error(y_test,ytestrf_tuned)\n",
    "print('MSE Modelo RandomForestRegressor StandardScaler (train): %0.5g' % mseTrainModelrf_tuned)\n",
    "print('MSE Modelo RandomForestRegressor StandardScaler (test) : %0.5g' % mseTestModelrf_tuned)\n",
    "\n",
    "print()\n",
    "\n",
    "maeTrainModelrf_tuned = mean_absolute_error(y_train,ytrainrf_tuned)\n",
    "maeTestModelrf_tuned  = mean_absolute_error(y_test,ytestrf_tuned)\n",
    "\n",
    "print('MAE Modelo RandomForestRegressor StandardScaler (train): %0.5g' % maeTrainModelrf_tuned)\n",
    "print('MAE Modelo RandomForestRegressor StandardScaler (test) : %0.5g' % maeTestModelrf_tuned)"
   ]
  },
  {
   "cell_type": "code",
   "execution_count": 10,
   "metadata": {},
   "outputs": [],
   "source": [
    "# Salvamos el modelo en formato joblib\n",
    "\n",
    "from joblib import dump, load\n",
    "\n",
    "dump(rf_tuned, 'modeloRandomForest_st.joblib') \n",
    "\n",
    "clf = load('modeloRandomForest_st.joblib') \n"
   ]
  },
  {
   "attachments": {},
   "cell_type": "markdown",
   "metadata": {},
   "source": [
    "### Conclusión\n",
    "\n",
    "Controlando los parámetros 'max_depth' y 'min_samples_split' conseguimos controlar el overfitting y por medio del parámetro 'n_estimators' mejoramos el ajuste del algoritmo.\n",
    "\n",
    "Los resultados obtenidos son:\n",
    "- Un MAE relativamente bueno de 43.296 \n",
    "- Un control del overfitting mediante los parámetros encontrados."
   ]
  }
 ],
 "metadata": {
  "kernelspec": {
   "display_name": "Python 3 (ipykernel)",
   "language": "python",
   "name": "python3"
  },
  "language_info": {
   "codemirror_mode": {
    "name": "ipython",
    "version": 3
   },
   "file_extension": ".py",
   "mimetype": "text/x-python",
   "name": "python",
   "nbconvert_exporter": "python",
   "pygments_lexer": "ipython3",
   "version": "3.10.9"
  }
 },
 "nbformat": 4,
 "nbformat_minor": 2
}
